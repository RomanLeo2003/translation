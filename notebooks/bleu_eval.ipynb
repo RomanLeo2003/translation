{
  "cells": [
    {
      "cell_type": "code",
      "execution_count": 1,
      "metadata": {
        "colab": {
          "base_uri": "https://localhost:8080/"
        },
        "id": "mjCV6PQLDWqY",
        "outputId": "bda2ee76-2b89-4989-ec33-30ecbb583ac8"
      },
      "outputs": [
        {
          "output_type": "stream",
          "name": "stdout",
          "text": [
            "Requirement already satisfied: nltk in /usr/local/lib/python3.10/dist-packages (3.8.1)\n",
            "Collecting evaluate\n",
            "  Downloading evaluate-0.4.1-py3-none-any.whl (84 kB)\n",
            "\u001b[2K     \u001b[90m━━━━━━━━━━━━━━━━━━━━━━━━━━━━━━━━━━━━━━━━\u001b[0m \u001b[32m84.1/84.1 kB\u001b[0m \u001b[31m1.6 MB/s\u001b[0m eta \u001b[36m0:00:00\u001b[0m\n",
            "\u001b[?25hRequirement already satisfied: click in /usr/local/lib/python3.10/dist-packages (from nltk) (8.1.7)\n",
            "Requirement already satisfied: joblib in /usr/local/lib/python3.10/dist-packages (from nltk) (1.3.2)\n",
            "Requirement already satisfied: regex>=2021.8.3 in /usr/local/lib/python3.10/dist-packages (from nltk) (2023.6.3)\n",
            "Requirement already satisfied: tqdm in /usr/local/lib/python3.10/dist-packages (from nltk) (4.66.1)\n",
            "Collecting datasets>=2.0.0 (from evaluate)\n",
            "  Downloading datasets-2.14.5-py3-none-any.whl (519 kB)\n",
            "\u001b[2K     \u001b[90m━━━━━━━━━━━━━━━━━━━━━━━━━━━━━━━━━━━━━━━━\u001b[0m \u001b[32m519.6/519.6 kB\u001b[0m \u001b[31m11.7 MB/s\u001b[0m eta \u001b[36m0:00:00\u001b[0m\n",
            "\u001b[?25hRequirement already satisfied: numpy>=1.17 in /usr/local/lib/python3.10/dist-packages (from evaluate) (1.23.5)\n",
            "Collecting dill (from evaluate)\n",
            "  Downloading dill-0.3.7-py3-none-any.whl (115 kB)\n",
            "\u001b[2K     \u001b[90m━━━━━━━━━━━━━━━━━━━━━━━━━━━━━━━━━━━━━━━━\u001b[0m \u001b[32m115.3/115.3 kB\u001b[0m \u001b[31m11.7 MB/s\u001b[0m eta \u001b[36m0:00:00\u001b[0m\n",
            "\u001b[?25hRequirement already satisfied: pandas in /usr/local/lib/python3.10/dist-packages (from evaluate) (1.5.3)\n",
            "Requirement already satisfied: requests>=2.19.0 in /usr/local/lib/python3.10/dist-packages (from evaluate) (2.31.0)\n",
            "Collecting xxhash (from evaluate)\n",
            "  Downloading xxhash-3.4.1-cp310-cp310-manylinux_2_17_x86_64.manylinux2014_x86_64.whl (194 kB)\n",
            "\u001b[2K     \u001b[90m━━━━━━━━━━━━━━━━━━━━━━━━━━━━━━━━━━━━━━━━\u001b[0m \u001b[32m194.1/194.1 kB\u001b[0m \u001b[31m20.1 MB/s\u001b[0m eta \u001b[36m0:00:00\u001b[0m\n",
            "\u001b[?25hCollecting multiprocess (from evaluate)\n",
            "  Downloading multiprocess-0.70.15-py310-none-any.whl (134 kB)\n",
            "\u001b[2K     \u001b[90m━━━━━━━━━━━━━━━━━━━━━━━━━━━━━━━━━━━━━━━━\u001b[0m \u001b[32m134.8/134.8 kB\u001b[0m \u001b[31m14.6 MB/s\u001b[0m eta \u001b[36m0:00:00\u001b[0m\n",
            "\u001b[?25hRequirement already satisfied: fsspec[http]>=2021.05.0 in /usr/local/lib/python3.10/dist-packages (from evaluate) (2023.6.0)\n",
            "Collecting huggingface-hub>=0.7.0 (from evaluate)\n",
            "  Downloading huggingface_hub-0.18.0-py3-none-any.whl (301 kB)\n",
            "\u001b[2K     \u001b[90m━━━━━━━━━━━━━━━━━━━━━━━━━━━━━━━━━━━━━━━━\u001b[0m \u001b[32m302.0/302.0 kB\u001b[0m \u001b[31m27.6 MB/s\u001b[0m eta \u001b[36m0:00:00\u001b[0m\n",
            "\u001b[?25hRequirement already satisfied: packaging in /usr/local/lib/python3.10/dist-packages (from evaluate) (23.2)\n",
            "Collecting responses<0.19 (from evaluate)\n",
            "  Downloading responses-0.18.0-py3-none-any.whl (38 kB)\n",
            "Requirement already satisfied: pyarrow>=8.0.0 in /usr/local/lib/python3.10/dist-packages (from datasets>=2.0.0->evaluate) (9.0.0)\n",
            "Requirement already satisfied: aiohttp in /usr/local/lib/python3.10/dist-packages (from datasets>=2.0.0->evaluate) (3.8.6)\n",
            "Requirement already satisfied: pyyaml>=5.1 in /usr/local/lib/python3.10/dist-packages (from datasets>=2.0.0->evaluate) (6.0.1)\n",
            "Requirement already satisfied: filelock in /usr/local/lib/python3.10/dist-packages (from huggingface-hub>=0.7.0->evaluate) (3.12.4)\n",
            "Requirement already satisfied: typing-extensions>=3.7.4.3 in /usr/local/lib/python3.10/dist-packages (from huggingface-hub>=0.7.0->evaluate) (4.5.0)\n",
            "Requirement already satisfied: charset-normalizer<4,>=2 in /usr/local/lib/python3.10/dist-packages (from requests>=2.19.0->evaluate) (3.3.0)\n",
            "Requirement already satisfied: idna<4,>=2.5 in /usr/local/lib/python3.10/dist-packages (from requests>=2.19.0->evaluate) (3.4)\n",
            "Requirement already satisfied: urllib3<3,>=1.21.1 in /usr/local/lib/python3.10/dist-packages (from requests>=2.19.0->evaluate) (2.0.6)\n",
            "Requirement already satisfied: certifi>=2017.4.17 in /usr/local/lib/python3.10/dist-packages (from requests>=2.19.0->evaluate) (2023.7.22)\n",
            "Requirement already satisfied: python-dateutil>=2.8.1 in /usr/local/lib/python3.10/dist-packages (from pandas->evaluate) (2.8.2)\n",
            "Requirement already satisfied: pytz>=2020.1 in /usr/local/lib/python3.10/dist-packages (from pandas->evaluate) (2023.3.post1)\n",
            "Requirement already satisfied: attrs>=17.3.0 in /usr/local/lib/python3.10/dist-packages (from aiohttp->datasets>=2.0.0->evaluate) (23.1.0)\n",
            "Requirement already satisfied: multidict<7.0,>=4.5 in /usr/local/lib/python3.10/dist-packages (from aiohttp->datasets>=2.0.0->evaluate) (6.0.4)\n",
            "Requirement already satisfied: async-timeout<5.0,>=4.0.0a3 in /usr/local/lib/python3.10/dist-packages (from aiohttp->datasets>=2.0.0->evaluate) (4.0.3)\n",
            "Requirement already satisfied: yarl<2.0,>=1.0 in /usr/local/lib/python3.10/dist-packages (from aiohttp->datasets>=2.0.0->evaluate) (1.9.2)\n",
            "Requirement already satisfied: frozenlist>=1.1.1 in /usr/local/lib/python3.10/dist-packages (from aiohttp->datasets>=2.0.0->evaluate) (1.4.0)\n",
            "Requirement already satisfied: aiosignal>=1.1.2 in /usr/local/lib/python3.10/dist-packages (from aiohttp->datasets>=2.0.0->evaluate) (1.3.1)\n",
            "Requirement already satisfied: six>=1.5 in /usr/local/lib/python3.10/dist-packages (from python-dateutil>=2.8.1->pandas->evaluate) (1.16.0)\n",
            "Installing collected packages: xxhash, dill, responses, multiprocess, huggingface-hub, datasets, evaluate\n",
            "Successfully installed datasets-2.14.5 dill-0.3.7 evaluate-0.4.1 huggingface-hub-0.18.0 multiprocess-0.70.15 responses-0.18.0 xxhash-3.4.1\n"
          ]
        }
      ],
      "source": [
        "!pip install nltk evaluate"
      ]
    },
    {
      "cell_type": "code",
      "execution_count": 2,
      "metadata": {
        "colab": {
          "base_uri": "https://localhost:8080/"
        },
        "id": "VJu3ZTMDNMSD",
        "outputId": "014fa61c-f0b5-4913-fa5c-0a2e0ad562ee"
      },
      "outputs": [
        {
          "output_type": "stream",
          "name": "stdout",
          "text": [
            "Collecting translatepy\n",
            "  Downloading translatepy-2.3-py3-none-any.whl (814 kB)\n",
            "\u001b[?25l     \u001b[90m━━━━━━━━━━━━━━━━━━━━━━━━━━━━━━━━━━━━━━━━\u001b[0m \u001b[32m0.0/814.4 kB\u001b[0m \u001b[31m?\u001b[0m eta \u001b[36m-:--:--\u001b[0m\r\u001b[2K     \u001b[91m━━━━\u001b[0m\u001b[90m╺\u001b[0m\u001b[90m━━━━━━━━━━━━━━━━━━━━━━━━━━━━━━━━━━━\u001b[0m \u001b[32m81.9/814.4 kB\u001b[0m \u001b[31m2.3 MB/s\u001b[0m eta \u001b[36m0:00:01\u001b[0m\r\u001b[2K     \u001b[91m━━━━━━━━━━━━━━━━━━━━━━━━━━━━━\u001b[0m\u001b[90m╺\u001b[0m\u001b[90m━━━━━━━━━━\u001b[0m \u001b[32m593.9/814.4 kB\u001b[0m \u001b[31m8.7 MB/s\u001b[0m eta \u001b[36m0:00:01\u001b[0m\r\u001b[2K     \u001b[90m━━━━━━━━━━━━━━━━━━━━━━━━━━━━━━━━━━━━━━━━\u001b[0m \u001b[32m814.4/814.4 kB\u001b[0m \u001b[31m9.0 MB/s\u001b[0m eta \u001b[36m0:00:00\u001b[0m\n",
            "\u001b[?25hRequirement already satisfied: requests in /usr/local/lib/python3.10/dist-packages (from translatepy) (2.31.0)\n",
            "Collecting safeIO>=1.2 (from translatepy)\n",
            "  Downloading safeIO-1.2.tar.gz (8.0 kB)\n",
            "  Preparing metadata (setup.py) ... \u001b[?25l\u001b[?25hdone\n",
            "Requirement already satisfied: beautifulsoup4 in /usr/local/lib/python3.10/dist-packages (from translatepy) (4.11.2)\n",
            "Collecting pyuseragents (from translatepy)\n",
            "  Downloading pyuseragents-1.0.5-py3-none-any.whl (79 kB)\n",
            "\u001b[2K     \u001b[90m━━━━━━━━━━━━━━━━━━━━━━━━━━━━━━━━━━━━━━━━\u001b[0m \u001b[32m79.8/79.8 kB\u001b[0m \u001b[31m9.6 MB/s\u001b[0m eta \u001b[36m0:00:00\u001b[0m\n",
            "\u001b[?25hCollecting inquirer>=2.8.0 (from translatepy)\n",
            "  Downloading inquirer-3.1.3-py3-none-any.whl (18 kB)\n",
            "Collecting blessed>=1.19.0 (from inquirer>=2.8.0->translatepy)\n",
            "  Downloading blessed-1.20.0-py2.py3-none-any.whl (58 kB)\n",
            "\u001b[2K     \u001b[90m━━━━━━━━━━━━━━━━━━━━━━━━━━━━━━━━━━━━━━━━\u001b[0m \u001b[32m58.4/58.4 kB\u001b[0m \u001b[31m7.0 MB/s\u001b[0m eta \u001b[36m0:00:00\u001b[0m\n",
            "\u001b[?25hCollecting python-editor>=1.0.4 (from inquirer>=2.8.0->translatepy)\n",
            "  Downloading python_editor-1.0.4-py3-none-any.whl (4.9 kB)\n",
            "Collecting readchar>=3.0.6 (from inquirer>=2.8.0->translatepy)\n",
            "  Downloading readchar-4.0.5-py3-none-any.whl (8.5 kB)\n",
            "Requirement already satisfied: soupsieve>1.2 in /usr/local/lib/python3.10/dist-packages (from beautifulsoup4->translatepy) (2.5)\n",
            "Requirement already satisfied: charset-normalizer<4,>=2 in /usr/local/lib/python3.10/dist-packages (from requests->translatepy) (3.3.0)\n",
            "Requirement already satisfied: idna<4,>=2.5 in /usr/local/lib/python3.10/dist-packages (from requests->translatepy) (3.4)\n",
            "Requirement already satisfied: urllib3<3,>=1.21.1 in /usr/local/lib/python3.10/dist-packages (from requests->translatepy) (2.0.6)\n",
            "Requirement already satisfied: certifi>=2017.4.17 in /usr/local/lib/python3.10/dist-packages (from requests->translatepy) (2023.7.22)\n",
            "Requirement already satisfied: wcwidth>=0.1.4 in /usr/local/lib/python3.10/dist-packages (from blessed>=1.19.0->inquirer>=2.8.0->translatepy) (0.2.8)\n",
            "Requirement already satisfied: six>=1.9.0 in /usr/local/lib/python3.10/dist-packages (from blessed>=1.19.0->inquirer>=2.8.0->translatepy) (1.16.0)\n",
            "Requirement already satisfied: setuptools>=41.0 in /usr/local/lib/python3.10/dist-packages (from readchar>=3.0.6->inquirer>=2.8.0->translatepy) (67.7.2)\n",
            "Building wheels for collected packages: safeIO\n",
            "  Building wheel for safeIO (setup.py) ... \u001b[?25l\u001b[?25hdone\n",
            "  Created wheel for safeIO: filename=safeIO-1.2-py3-none-any.whl size=6731 sha256=17515dfce72137b6927c6a4b936999b4e720c45c2274d1cc59f355c9f43b50a5\n",
            "  Stored in directory: /root/.cache/pip/wheels/65/77/55/49296e806480db1fa92548fe2eb7447048830f14dbf3e34940\n",
            "Successfully built safeIO\n",
            "Installing collected packages: safeIO, pyuseragents, python-editor, readchar, blessed, inquirer, translatepy\n",
            "Successfully installed blessed-1.20.0 inquirer-3.1.3 python-editor-1.0.4 pyuseragents-1.0.5 readchar-4.0.5 safeIO-1.2 translatepy-2.3\n"
          ]
        }
      ],
      "source": [
        "!pip install translatepy"
      ]
    },
    {
      "cell_type": "code",
      "execution_count": null,
      "metadata": {
        "colab": {
          "base_uri": "https://localhost:8080/"
        },
        "id": "sufoTo1jYJdC",
        "outputId": "3ce0d018-af60-4720-c454-73785f16a818"
      },
      "outputs": [
        {
          "name": "stdout",
          "output_type": "stream",
          "text": [
            "Collecting googletrans\n",
            "  Downloading googletrans-3.0.0.tar.gz (17 kB)\n",
            "  Preparing metadata (setup.py) ... \u001b[?25l\u001b[?25hdone\n",
            "Collecting httpx==0.13.3 (from googletrans)\n",
            "  Downloading httpx-0.13.3-py3-none-any.whl (55 kB)\n",
            "\u001b[2K     \u001b[90m━━━━━━━━━━━━━━━━━━━━━━━━━━━━━━━━━━━━━━━━\u001b[0m \u001b[32m55.1/55.1 kB\u001b[0m \u001b[31m1.5 MB/s\u001b[0m eta \u001b[36m0:00:00\u001b[0m\n",
            "\u001b[?25hRequirement already satisfied: certifi in /usr/local/lib/python3.10/dist-packages (from httpx==0.13.3->googletrans) (2023.7.22)\n",
            "Collecting hstspreload (from httpx==0.13.3->googletrans)\n",
            "  Downloading hstspreload-2023.1.1-py3-none-any.whl (1.5 MB)\n",
            "\u001b[2K     \u001b[90m━━━━━━━━━━━━━━━━━━━━━━━━━━━━━━━━━━━━━━━━\u001b[0m \u001b[32m1.5/1.5 MB\u001b[0m \u001b[31m20.6 MB/s\u001b[0m eta \u001b[36m0:00:00\u001b[0m\n",
            "\u001b[?25hRequirement already satisfied: sniffio in /usr/local/lib/python3.10/dist-packages (from httpx==0.13.3->googletrans) (1.3.0)\n",
            "Collecting chardet==3.* (from httpx==0.13.3->googletrans)\n",
            "  Downloading chardet-3.0.4-py2.py3-none-any.whl (133 kB)\n",
            "\u001b[2K     \u001b[90m━━━━━━━━━━━━━━━━━━━━━━━━━━━━━━━━━━━━━━\u001b[0m \u001b[32m133.4/133.4 kB\u001b[0m \u001b[31m10.5 MB/s\u001b[0m eta \u001b[36m0:00:00\u001b[0m\n",
            "\u001b[?25hCollecting idna==2.* (from httpx==0.13.3->googletrans)\n",
            "  Downloading idna-2.10-py2.py3-none-any.whl (58 kB)\n",
            "\u001b[2K     \u001b[90m━━━━━━━━━━━━━━━━━━━━━━━━━━━━━━━━━━━━━━━━\u001b[0m \u001b[32m58.8/58.8 kB\u001b[0m \u001b[31m7.3 MB/s\u001b[0m eta \u001b[36m0:00:00\u001b[0m\n",
            "\u001b[?25hCollecting rfc3986<2,>=1.3 (from httpx==0.13.3->googletrans)\n",
            "  Downloading rfc3986-1.5.0-py2.py3-none-any.whl (31 kB)\n",
            "Collecting httpcore==0.9.* (from httpx==0.13.3->googletrans)\n",
            "  Downloading httpcore-0.9.1-py3-none-any.whl (42 kB)\n",
            "\u001b[2K     \u001b[90m━━━━━━━━━━━━━━━━━━━━━━━━━━━━━━━━━━━━━━━━\u001b[0m \u001b[32m42.6/42.6 kB\u001b[0m \u001b[31m4.5 MB/s\u001b[0m eta \u001b[36m0:00:00\u001b[0m\n",
            "\u001b[?25hCollecting h11<0.10,>=0.8 (from httpcore==0.9.*->httpx==0.13.3->googletrans)\n",
            "  Downloading h11-0.9.0-py2.py3-none-any.whl (53 kB)\n",
            "\u001b[2K     \u001b[90m━━━━━━━━━━━━━━━━━━━━━━━━━━━━━━━━━━━━━━━━\u001b[0m \u001b[32m53.6/53.6 kB\u001b[0m \u001b[31m6.0 MB/s\u001b[0m eta \u001b[36m0:00:00\u001b[0m\n",
            "\u001b[?25hCollecting h2==3.* (from httpcore==0.9.*->httpx==0.13.3->googletrans)\n",
            "  Downloading h2-3.2.0-py2.py3-none-any.whl (65 kB)\n",
            "\u001b[2K     \u001b[90m━━━━━━━━━━━━━━━━━━━━━━━━━━━━━━━━━━━━━━━━\u001b[0m \u001b[32m65.0/65.0 kB\u001b[0m \u001b[31m7.3 MB/s\u001b[0m eta \u001b[36m0:00:00\u001b[0m\n",
            "\u001b[?25hCollecting hyperframe<6,>=5.2.0 (from h2==3.*->httpcore==0.9.*->httpx==0.13.3->googletrans)\n",
            "  Downloading hyperframe-5.2.0-py2.py3-none-any.whl (12 kB)\n",
            "Collecting hpack<4,>=3.0 (from h2==3.*->httpcore==0.9.*->httpx==0.13.3->googletrans)\n",
            "  Downloading hpack-3.0.0-py2.py3-none-any.whl (38 kB)\n",
            "Building wheels for collected packages: googletrans\n",
            "  Building wheel for googletrans (setup.py) ... \u001b[?25l\u001b[?25hdone\n",
            "  Created wheel for googletrans: filename=googletrans-3.0.0-py3-none-any.whl size=15716 sha256=20752acdaf2ef0c27d180173423177197001c56a44ffe66c6f6f0e7c4b6c3460\n",
            "  Stored in directory: /root/.cache/pip/wheels/b3/81/ea/8b030407f8ebfc2f857814e086bb22ca2d4fea1a7be63652ab\n",
            "Successfully built googletrans\n",
            "Installing collected packages: rfc3986, hyperframe, hpack, h11, chardet, idna, hstspreload, h2, httpcore, httpx, googletrans\n",
            "  Attempting uninstall: chardet\n",
            "    Found existing installation: chardet 5.2.0\n",
            "    Uninstalling chardet-5.2.0:\n",
            "      Successfully uninstalled chardet-5.2.0\n",
            "  Attempting uninstall: idna\n",
            "    Found existing installation: idna 3.4\n",
            "    Uninstalling idna-3.4:\n",
            "      Successfully uninstalled idna-3.4\n",
            "Successfully installed chardet-3.0.4 googletrans-3.0.0 h11-0.9.0 h2-3.2.0 hpack-3.0.0 hstspreload-2023.1.1 httpcore-0.9.1 httpx-0.13.3 hyperframe-5.2.0 idna-2.10 rfc3986-1.5.0\n"
          ]
        }
      ],
      "source": [
        "!pip install googletrans"
      ]
    },
    {
      "cell_type": "code",
      "execution_count": 3,
      "metadata": {
        "id": "PnK3KqdNNNkq"
      },
      "outputs": [],
      "source": [
        "from translatepy import Translator\n",
        "from translatepy.translators.google import GoogleTranslateV2\n",
        "from translatepy.translators.yandex import YandexTranslate\n",
        "from translatepy.translators.bing import BingTranslate\n",
        "yandex = YandexTranslate()\n",
        "google = GoogleTranslateV2()\n",
        "# microsoft = BingTranslate()"
      ]
    },
    {
      "cell_type": "code",
      "execution_count": 4,
      "metadata": {
        "id": "jPPi0pcuSI_J"
      },
      "outputs": [],
      "source": [
        "from urllib.parse import unquote\n",
        "\n",
        "import requests\n",
        "from bs4 import BeautifulSoup\n",
        "\n",
        "\n",
        "class Translate():\n",
        "    tat2rus_url = \"https://translate.tatar/translate?lang=1&text=\"\n",
        "    rus2tat_url = \"https://translate.tatar/translate?lang=0&text=\"\n",
        "\n",
        "    def tat2rus(self, text: str) -> str:\n",
        "        response_translated = requests.get(self.tat2rus_url + unquote(text))\n",
        "        if b\"translation\" in response_translated.content:\n",
        "            parsed_html = BeautifulSoup(response_translated.content, features=\"html.parser\")\n",
        "            return parsed_html.find(\"translation\").text\n",
        "        else:\n",
        "            return response_translated.text\n",
        "\n",
        "    def rus2tat(self, text: str) -> str:\n",
        "        response_translated = requests.get(self.rus2tat_url + unquote(text))\n",
        "        if b\"translation\" in response_translated.content:\n",
        "            parsed_html = BeautifulSoup(response_translated.content, features=\"html.parser\")\n",
        "            return parsed_html.find(\"translation\").text\n",
        "        else:\n",
        "            return response_translated.text"
      ]
    },
    {
      "cell_type": "code",
      "execution_count": null,
      "metadata": {
        "colab": {
          "base_uri": "https://localhost:8080/"
        },
        "id": "rexHc0-JbW7-",
        "outputId": "dcf57dba-7ed7-464f-c5a7-35b0ff3cc213"
      },
      "outputs": [
        {
          "name": "stdout",
          "output_type": "stream",
          "text": [
            "Requirement already satisfied: google-cloud-translate in /usr/local/lib/python3.10/dist-packages (3.11.3)\n",
            "Requirement already satisfied: google-api-core[grpc]!=2.0.*,!=2.1.*,!=2.10.*,!=2.2.*,!=2.3.*,!=2.4.*,!=2.5.*,!=2.6.*,!=2.7.*,!=2.8.*,!=2.9.*,<3.0.0dev,>=1.34.0 in /usr/local/lib/python3.10/dist-packages (from google-cloud-translate) (2.11.1)\n",
            "Requirement already satisfied: google-cloud-core<3.0.0dev,>=1.3.0 in /usr/local/lib/python3.10/dist-packages (from google-cloud-translate) (2.3.3)\n",
            "Requirement already satisfied: proto-plus<2.0.0dev,>=1.22.0 in /usr/local/lib/python3.10/dist-packages (from google-cloud-translate) (1.22.3)\n",
            "Requirement already satisfied: protobuf!=3.20.0,!=3.20.1,!=4.21.0,!=4.21.1,!=4.21.2,!=4.21.3,!=4.21.4,!=4.21.5,<5.0.0dev,>=3.19.5 in /usr/local/lib/python3.10/dist-packages (from google-cloud-translate) (3.20.3)\n",
            "Requirement already satisfied: googleapis-common-protos<2.0.dev0,>=1.56.2 in /usr/local/lib/python3.10/dist-packages (from google-api-core[grpc]!=2.0.*,!=2.1.*,!=2.10.*,!=2.2.*,!=2.3.*,!=2.4.*,!=2.5.*,!=2.6.*,!=2.7.*,!=2.8.*,!=2.9.*,<3.0.0dev,>=1.34.0->google-cloud-translate) (1.60.0)\n",
            "Requirement already satisfied: google-auth<3.0.dev0,>=2.14.1 in /usr/local/lib/python3.10/dist-packages (from google-api-core[grpc]!=2.0.*,!=2.1.*,!=2.10.*,!=2.2.*,!=2.3.*,!=2.4.*,!=2.5.*,!=2.6.*,!=2.7.*,!=2.8.*,!=2.9.*,<3.0.0dev,>=1.34.0->google-cloud-translate) (2.17.3)\n",
            "Requirement already satisfied: requests<3.0.0.dev0,>=2.18.0 in /usr/local/lib/python3.10/dist-packages (from google-api-core[grpc]!=2.0.*,!=2.1.*,!=2.10.*,!=2.2.*,!=2.3.*,!=2.4.*,!=2.5.*,!=2.6.*,!=2.7.*,!=2.8.*,!=2.9.*,<3.0.0dev,>=1.34.0->google-cloud-translate) (2.31.0)\n",
            "Requirement already satisfied: grpcio<2.0dev,>=1.33.2 in /usr/local/lib/python3.10/dist-packages (from google-api-core[grpc]!=2.0.*,!=2.1.*,!=2.10.*,!=2.2.*,!=2.3.*,!=2.4.*,!=2.5.*,!=2.6.*,!=2.7.*,!=2.8.*,!=2.9.*,<3.0.0dev,>=1.34.0->google-cloud-translate) (1.59.0)\n",
            "Requirement already satisfied: grpcio-status<2.0.dev0,>=1.33.2 in /usr/local/lib/python3.10/dist-packages (from google-api-core[grpc]!=2.0.*,!=2.1.*,!=2.10.*,!=2.2.*,!=2.3.*,!=2.4.*,!=2.5.*,!=2.6.*,!=2.7.*,!=2.8.*,!=2.9.*,<3.0.0dev,>=1.34.0->google-cloud-translate) (1.48.2)\n",
            "Requirement already satisfied: cachetools<6.0,>=2.0.0 in /usr/local/lib/python3.10/dist-packages (from google-auth<3.0.dev0,>=2.14.1->google-api-core[grpc]!=2.0.*,!=2.1.*,!=2.10.*,!=2.2.*,!=2.3.*,!=2.4.*,!=2.5.*,!=2.6.*,!=2.7.*,!=2.8.*,!=2.9.*,<3.0.0dev,>=1.34.0->google-cloud-translate) (5.3.1)\n",
            "Requirement already satisfied: pyasn1-modules>=0.2.1 in /usr/local/lib/python3.10/dist-packages (from google-auth<3.0.dev0,>=2.14.1->google-api-core[grpc]!=2.0.*,!=2.1.*,!=2.10.*,!=2.2.*,!=2.3.*,!=2.4.*,!=2.5.*,!=2.6.*,!=2.7.*,!=2.8.*,!=2.9.*,<3.0.0dev,>=1.34.0->google-cloud-translate) (0.3.0)\n",
            "Requirement already satisfied: six>=1.9.0 in /usr/local/lib/python3.10/dist-packages (from google-auth<3.0.dev0,>=2.14.1->google-api-core[grpc]!=2.0.*,!=2.1.*,!=2.10.*,!=2.2.*,!=2.3.*,!=2.4.*,!=2.5.*,!=2.6.*,!=2.7.*,!=2.8.*,!=2.9.*,<3.0.0dev,>=1.34.0->google-cloud-translate) (1.16.0)\n",
            "Requirement already satisfied: rsa<5,>=3.1.4 in /usr/local/lib/python3.10/dist-packages (from google-auth<3.0.dev0,>=2.14.1->google-api-core[grpc]!=2.0.*,!=2.1.*,!=2.10.*,!=2.2.*,!=2.3.*,!=2.4.*,!=2.5.*,!=2.6.*,!=2.7.*,!=2.8.*,!=2.9.*,<3.0.0dev,>=1.34.0->google-cloud-translate) (4.9)\n",
            "Requirement already satisfied: charset-normalizer<4,>=2 in /usr/local/lib/python3.10/dist-packages (from requests<3.0.0.dev0,>=2.18.0->google-api-core[grpc]!=2.0.*,!=2.1.*,!=2.10.*,!=2.2.*,!=2.3.*,!=2.4.*,!=2.5.*,!=2.6.*,!=2.7.*,!=2.8.*,!=2.9.*,<3.0.0dev,>=1.34.0->google-cloud-translate) (3.3.0)\n",
            "Requirement already satisfied: idna<4,>=2.5 in /usr/local/lib/python3.10/dist-packages (from requests<3.0.0.dev0,>=2.18.0->google-api-core[grpc]!=2.0.*,!=2.1.*,!=2.10.*,!=2.2.*,!=2.3.*,!=2.4.*,!=2.5.*,!=2.6.*,!=2.7.*,!=2.8.*,!=2.9.*,<3.0.0dev,>=1.34.0->google-cloud-translate) (2.10)\n",
            "Requirement already satisfied: urllib3<3,>=1.21.1 in /usr/local/lib/python3.10/dist-packages (from requests<3.0.0.dev0,>=2.18.0->google-api-core[grpc]!=2.0.*,!=2.1.*,!=2.10.*,!=2.2.*,!=2.3.*,!=2.4.*,!=2.5.*,!=2.6.*,!=2.7.*,!=2.8.*,!=2.9.*,<3.0.0dev,>=1.34.0->google-cloud-translate) (2.0.6)\n",
            "Requirement already satisfied: certifi>=2017.4.17 in /usr/local/lib/python3.10/dist-packages (from requests<3.0.0.dev0,>=2.18.0->google-api-core[grpc]!=2.0.*,!=2.1.*,!=2.10.*,!=2.2.*,!=2.3.*,!=2.4.*,!=2.5.*,!=2.6.*,!=2.7.*,!=2.8.*,!=2.9.*,<3.0.0dev,>=1.34.0->google-cloud-translate) (2023.7.22)\n",
            "Requirement already satisfied: pyasn1<0.6.0,>=0.4.6 in /usr/local/lib/python3.10/dist-packages (from pyasn1-modules>=0.2.1->google-auth<3.0.dev0,>=2.14.1->google-api-core[grpc]!=2.0.*,!=2.1.*,!=2.10.*,!=2.2.*,!=2.3.*,!=2.4.*,!=2.5.*,!=2.6.*,!=2.7.*,!=2.8.*,!=2.9.*,<3.0.0dev,>=1.34.0->google-cloud-translate) (0.5.0)\n"
          ]
        }
      ],
      "source": [
        "!pip install google-cloud-translate"
      ]
    },
    {
      "cell_type": "code",
      "execution_count": null,
      "metadata": {
        "id": "RpjpIAvCYH85"
      },
      "outputs": [],
      "source": [
        "def translate_text(target: str, text: str) -> dict:\n",
        "    \"\"\"Translates text into the target language.\n",
        "\n",
        "    Target must be an ISO 639-1 language code.\n",
        "    See https://g.co/cloud/translate/v2/translate-reference#supported_languages\n",
        "    \"\"\"\n",
        "    from google.cloud import translate_v2 as translate\n",
        "\n",
        "    translate_client = translate.Client()\n",
        "\n",
        "    if isinstance(text, bytes):\n",
        "        text = text.decode(\"utf-8\")\n",
        "\n",
        "    # Text can also be a sequence of strings, in which case this method\n",
        "    # will return a sequence of results for each text.\n",
        "    result = translate_client.translate(text, target_language=target)\n",
        "\n",
        "    print(\"Text: {}\".format(result[\"input\"]))\n",
        "    print(\"Translation: {}\".format(result[\"translatedText\"]))\n",
        "    print(\"Detected source language: {}\".format(result[\"detectedSourceLanguage\"]))\n",
        "\n",
        "    return result\n"
      ]
    },
    {
      "cell_type": "code",
      "execution_count": 20,
      "metadata": {
        "id": "tcfZh9ivOlNQ"
      },
      "outputs": [],
      "source": [
        "import pandas as pd\n",
        "test_df = pd.read_excel('/content/drive/MyDrive/MT test corpus.xlsx')"
      ]
    },
    {
      "cell_type": "code",
      "execution_count": 21,
      "metadata": {
        "colab": {
          "base_uri": "https://localhost:8080/",
          "height": 614
        },
        "id": "A4He9I3Ci8kZ",
        "outputId": "0412da33-9231-4b3d-8547-71c4f0cb06db"
      },
      "outputs": [
        {
          "output_type": "execute_result",
          "data": {
            "text/plain": [
              "        ID                                                rus  \\\n",
              "0        1  Убежище в январе в ЕС получили только 13 гражд...   \n",
              "1        2                   Приглашать в школы героев войны.   \n",
              "2        3                   Приглашать в школы героев войны.   \n",
              "3        4  Иллюстрации Ильдуса Азимова, Айсылу Гариповой,...   \n",
              "4        5                  Ситуация вполне устроила мафиози:   \n",
              "...    ...                                                ...   \n",
              "2179  2180                 У нас все партийные на должностях.   \n",
              "2180  2181  1. Если при проведении голосования или установ...   \n",
              "2181  2182  Настроенные было к войне молодые, среди которы...   \n",
              "2182  2183  Только равноправное сотрудничество со всеми ми...   \n",
              "2183  2184                   Алексей Захаров - будущий юрист.   \n",
              "\n",
              "                                  Татарское предложение  \\\n",
              "0     Гыйнварда ЕСта сыену мөмкинлеген Грузиянең 13 ...   \n",
              "1                  Мәктәпкә сугыш геройларын чакырырга.   \n",
              "2               Мәктәпкә сугыш каһарманнарын чакырырга.   \n",
              "3     Илдус Әҗемов, Айсылу Гарипова, Булат Гыйльвано...   \n",
              "4      Әлеге хәл мафиозины тулысынча канәгатьләндергән:   \n",
              "...                                                 ...   \n",
              "2179        Бездә бөтен партийныйлар эш урыннарында ич.   \n",
              "2180  1. Әгәр тавыш бирүне үткәргәндә яисә тавыш бир...   \n",
              "2181  Сугышка атлыгып торган яшьләр - шулар арасында...   \n",
              "2182  Бары тик бөтен дөнья уенчылары белән, шул исәп...   \n",
              "2183                   Алексей Захаров - булачак юрист.   \n",
              "\n",
              "                     Исправленные татарские предложения  \\\n",
              "0     Гыйнварда ЕСта сыену мөмкинлеген Грузиянең 13 ...   \n",
              "1                 Мәктәпкә сугыш геройларын чакырырга .   \n",
              "2              Мәктәпкә сугыш каһарманнарын чакырырга .   \n",
              "3     Илдус Әҗемов , Айсылу Гарипова , Булат Гыйльва...   \n",
              "4     Әлеге хәл мафиозины тулысынча канәгатьләндергән :   \n",
              "...                                                 ...   \n",
              "2179       Бездә бөтен партийныйлар эш урыннарында ич .   \n",
              "2180  1 . Әгәр тавыш бирүне үткәргәндә яисә тавыш би...   \n",
              "2181  Сугышка атлыгып торган яшьләр - шулар арасында...   \n",
              "2182  Бары тик бөтен дөнья уенчылары белән , шул исә...   \n",
              "2183                  Алексей Захаров - булачак юрист .   \n",
              "\n",
              "                                                    tat  \n",
              "0     Гыйнварда ЕСта сыену мөмкинлеген Грузиянең 13 ...  \n",
              "1                  Мәктәпкә сугыш геройларын чакырырга.  \n",
              "2               Мәктәпкә сугыш каһарманнарын чакырырга.  \n",
              "3     Илдус Әҗемов, Айсылу Гарипова, Булат Гыйльвано...  \n",
              "4      Әлеге хәл мафиозины тулысынча канәгатьләндергән:  \n",
              "...                                                 ...  \n",
              "2179        Бездә бөтен партийныйлар эш урыннарында ич.  \n",
              "2180  1. Әгәр тавыш бирүне үткәргәндә яисә тавыш бир...  \n",
              "2181  Сугышка атлыгып торган яшьләр - шулар арасында...  \n",
              "2182  Бары тик бөтен дөнья уенчылары белән, шул исәп...  \n",
              "2183                   Алексей Захаров - булачак юрист.  \n",
              "\n",
              "[2184 rows x 5 columns]"
            ],
            "text/html": [
              "\n",
              "  <div id=\"df-ed0cd396-bd96-4f57-a0e7-1612ca1b963f\" class=\"colab-df-container\">\n",
              "    <div>\n",
              "<style scoped>\n",
              "    .dataframe tbody tr th:only-of-type {\n",
              "        vertical-align: middle;\n",
              "    }\n",
              "\n",
              "    .dataframe tbody tr th {\n",
              "        vertical-align: top;\n",
              "    }\n",
              "\n",
              "    .dataframe thead th {\n",
              "        text-align: right;\n",
              "    }\n",
              "</style>\n",
              "<table border=\"1\" class=\"dataframe\">\n",
              "  <thead>\n",
              "    <tr style=\"text-align: right;\">\n",
              "      <th></th>\n",
              "      <th>ID</th>\n",
              "      <th>rus</th>\n",
              "      <th>Татарское предложение</th>\n",
              "      <th>Исправленные татарские предложения</th>\n",
              "      <th>tat</th>\n",
              "    </tr>\n",
              "  </thead>\n",
              "  <tbody>\n",
              "    <tr>\n",
              "      <th>0</th>\n",
              "      <td>1</td>\n",
              "      <td>Убежище в январе в ЕС получили только 13 гражд...</td>\n",
              "      <td>Гыйнварда ЕСта сыену мөмкинлеген Грузиянең 13 ...</td>\n",
              "      <td>Гыйнварда ЕСта сыену мөмкинлеген Грузиянең 13 ...</td>\n",
              "      <td>Гыйнварда ЕСта сыену мөмкинлеген Грузиянең 13 ...</td>\n",
              "    </tr>\n",
              "    <tr>\n",
              "      <th>1</th>\n",
              "      <td>2</td>\n",
              "      <td>Приглашать в школы героев войны.</td>\n",
              "      <td>Мәктәпкә сугыш геройларын чакырырга.</td>\n",
              "      <td>Мәктәпкә сугыш геройларын чакырырга .</td>\n",
              "      <td>Мәктәпкә сугыш геройларын чакырырга.</td>\n",
              "    </tr>\n",
              "    <tr>\n",
              "      <th>2</th>\n",
              "      <td>3</td>\n",
              "      <td>Приглашать в школы героев войны.</td>\n",
              "      <td>Мәктәпкә сугыш каһарманнарын чакырырга.</td>\n",
              "      <td>Мәктәпкә сугыш каһарманнарын чакырырга .</td>\n",
              "      <td>Мәктәпкә сугыш каһарманнарын чакырырга.</td>\n",
              "    </tr>\n",
              "    <tr>\n",
              "      <th>3</th>\n",
              "      <td>4</td>\n",
              "      <td>Иллюстрации Ильдуса Азимова, Айсылу Гариповой,...</td>\n",
              "      <td>Илдус Әҗемов, Айсылу Гарипова, Булат Гыйльвано...</td>\n",
              "      <td>Илдус Әҗемов , Айсылу Гарипова , Булат Гыйльва...</td>\n",
              "      <td>Илдус Әҗемов, Айсылу Гарипова, Булат Гыйльвано...</td>\n",
              "    </tr>\n",
              "    <tr>\n",
              "      <th>4</th>\n",
              "      <td>5</td>\n",
              "      <td>Ситуация вполне устроила мафиози:</td>\n",
              "      <td>Әлеге хәл мафиозины тулысынча канәгатьләндергән:</td>\n",
              "      <td>Әлеге хәл мафиозины тулысынча канәгатьләндергән :</td>\n",
              "      <td>Әлеге хәл мафиозины тулысынча канәгатьләндергән:</td>\n",
              "    </tr>\n",
              "    <tr>\n",
              "      <th>...</th>\n",
              "      <td>...</td>\n",
              "      <td>...</td>\n",
              "      <td>...</td>\n",
              "      <td>...</td>\n",
              "      <td>...</td>\n",
              "    </tr>\n",
              "    <tr>\n",
              "      <th>2179</th>\n",
              "      <td>2180</td>\n",
              "      <td>У нас все партийные на должностях.</td>\n",
              "      <td>Бездә бөтен партийныйлар эш урыннарында ич.</td>\n",
              "      <td>Бездә бөтен партийныйлар эш урыннарында ич .</td>\n",
              "      <td>Бездә бөтен партийныйлар эш урыннарында ич.</td>\n",
              "    </tr>\n",
              "    <tr>\n",
              "      <th>2180</th>\n",
              "      <td>2181</td>\n",
              "      <td>1. Если при проведении голосования или установ...</td>\n",
              "      <td>1. Әгәр тавыш бирүне үткәргәндә яисә тавыш бир...</td>\n",
              "      <td>1 . Әгәр тавыш бирүне үткәргәндә яисә тавыш би...</td>\n",
              "      <td>1. Әгәр тавыш бирүне үткәргәндә яисә тавыш бир...</td>\n",
              "    </tr>\n",
              "    <tr>\n",
              "      <th>2181</th>\n",
              "      <td>2182</td>\n",
              "      <td>Настроенные было к войне молодые, среди которы...</td>\n",
              "      <td>Сугышка атлыгып торган яшьләр - шулар арасында...</td>\n",
              "      <td>Сугышка атлыгып торган яшьләр - шулар арасында...</td>\n",
              "      <td>Сугышка атлыгып торган яшьләр - шулар арасында...</td>\n",
              "    </tr>\n",
              "    <tr>\n",
              "      <th>2182</th>\n",
              "      <td>2183</td>\n",
              "      <td>Только равноправное сотрудничество со всеми ми...</td>\n",
              "      <td>Бары тик бөтен дөнья уенчылары белән, шул исәп...</td>\n",
              "      <td>Бары тик бөтен дөнья уенчылары белән , шул исә...</td>\n",
              "      <td>Бары тик бөтен дөнья уенчылары белән, шул исәп...</td>\n",
              "    </tr>\n",
              "    <tr>\n",
              "      <th>2183</th>\n",
              "      <td>2184</td>\n",
              "      <td>Алексей Захаров - будущий юрист.</td>\n",
              "      <td>Алексей Захаров - булачак юрист.</td>\n",
              "      <td>Алексей Захаров - булачак юрист .</td>\n",
              "      <td>Алексей Захаров - булачак юрист.</td>\n",
              "    </tr>\n",
              "  </tbody>\n",
              "</table>\n",
              "<p>2184 rows × 5 columns</p>\n",
              "</div>\n",
              "    <div class=\"colab-df-buttons\">\n",
              "\n",
              "  <div class=\"colab-df-container\">\n",
              "    <button class=\"colab-df-convert\" onclick=\"convertToInteractive('df-ed0cd396-bd96-4f57-a0e7-1612ca1b963f')\"\n",
              "            title=\"Convert this dataframe to an interactive table.\"\n",
              "            style=\"display:none;\">\n",
              "\n",
              "  <svg xmlns=\"http://www.w3.org/2000/svg\" height=\"24px\" viewBox=\"0 -960 960 960\">\n",
              "    <path d=\"M120-120v-720h720v720H120Zm60-500h600v-160H180v160Zm220 220h160v-160H400v160Zm0 220h160v-160H400v160ZM180-400h160v-160H180v160Zm440 0h160v-160H620v160ZM180-180h160v-160H180v160Zm440 0h160v-160H620v160Z\"/>\n",
              "  </svg>\n",
              "    </button>\n",
              "\n",
              "  <style>\n",
              "    .colab-df-container {\n",
              "      display:flex;\n",
              "      gap: 12px;\n",
              "    }\n",
              "\n",
              "    .colab-df-convert {\n",
              "      background-color: #E8F0FE;\n",
              "      border: none;\n",
              "      border-radius: 50%;\n",
              "      cursor: pointer;\n",
              "      display: none;\n",
              "      fill: #1967D2;\n",
              "      height: 32px;\n",
              "      padding: 0 0 0 0;\n",
              "      width: 32px;\n",
              "    }\n",
              "\n",
              "    .colab-df-convert:hover {\n",
              "      background-color: #E2EBFA;\n",
              "      box-shadow: 0px 1px 2px rgba(60, 64, 67, 0.3), 0px 1px 3px 1px rgba(60, 64, 67, 0.15);\n",
              "      fill: #174EA6;\n",
              "    }\n",
              "\n",
              "    .colab-df-buttons div {\n",
              "      margin-bottom: 4px;\n",
              "    }\n",
              "\n",
              "    [theme=dark] .colab-df-convert {\n",
              "      background-color: #3B4455;\n",
              "      fill: #D2E3FC;\n",
              "    }\n",
              "\n",
              "    [theme=dark] .colab-df-convert:hover {\n",
              "      background-color: #434B5C;\n",
              "      box-shadow: 0px 1px 3px 1px rgba(0, 0, 0, 0.15);\n",
              "      filter: drop-shadow(0px 1px 2px rgba(0, 0, 0, 0.3));\n",
              "      fill: #FFFFFF;\n",
              "    }\n",
              "  </style>\n",
              "\n",
              "    <script>\n",
              "      const buttonEl =\n",
              "        document.querySelector('#df-ed0cd396-bd96-4f57-a0e7-1612ca1b963f button.colab-df-convert');\n",
              "      buttonEl.style.display =\n",
              "        google.colab.kernel.accessAllowed ? 'block' : 'none';\n",
              "\n",
              "      async function convertToInteractive(key) {\n",
              "        const element = document.querySelector('#df-ed0cd396-bd96-4f57-a0e7-1612ca1b963f');\n",
              "        const dataTable =\n",
              "          await google.colab.kernel.invokeFunction('convertToInteractive',\n",
              "                                                    [key], {});\n",
              "        if (!dataTable) return;\n",
              "\n",
              "        const docLinkHtml = 'Like what you see? Visit the ' +\n",
              "          '<a target=\"_blank\" href=https://colab.research.google.com/notebooks/data_table.ipynb>data table notebook</a>'\n",
              "          + ' to learn more about interactive tables.';\n",
              "        element.innerHTML = '';\n",
              "        dataTable['output_type'] = 'display_data';\n",
              "        await google.colab.output.renderOutput(dataTable, element);\n",
              "        const docLink = document.createElement('div');\n",
              "        docLink.innerHTML = docLinkHtml;\n",
              "        element.appendChild(docLink);\n",
              "      }\n",
              "    </script>\n",
              "  </div>\n",
              "\n",
              "\n",
              "<div id=\"df-275d517b-c12a-45bf-9ff0-fe30161cbcf7\">\n",
              "  <button class=\"colab-df-quickchart\" onclick=\"quickchart('df-275d517b-c12a-45bf-9ff0-fe30161cbcf7')\"\n",
              "            title=\"Suggest charts.\"\n",
              "            style=\"display:none;\">\n",
              "\n",
              "<svg xmlns=\"http://www.w3.org/2000/svg\" height=\"24px\"viewBox=\"0 0 24 24\"\n",
              "     width=\"24px\">\n",
              "    <g>\n",
              "        <path d=\"M19 3H5c-1.1 0-2 .9-2 2v14c0 1.1.9 2 2 2h14c1.1 0 2-.9 2-2V5c0-1.1-.9-2-2-2zM9 17H7v-7h2v7zm4 0h-2V7h2v10zm4 0h-2v-4h2v4z\"/>\n",
              "    </g>\n",
              "</svg>\n",
              "  </button>\n",
              "\n",
              "<style>\n",
              "  .colab-df-quickchart {\n",
              "      --bg-color: #E8F0FE;\n",
              "      --fill-color: #1967D2;\n",
              "      --hover-bg-color: #E2EBFA;\n",
              "      --hover-fill-color: #174EA6;\n",
              "      --disabled-fill-color: #AAA;\n",
              "      --disabled-bg-color: #DDD;\n",
              "  }\n",
              "\n",
              "  [theme=dark] .colab-df-quickchart {\n",
              "      --bg-color: #3B4455;\n",
              "      --fill-color: #D2E3FC;\n",
              "      --hover-bg-color: #434B5C;\n",
              "      --hover-fill-color: #FFFFFF;\n",
              "      --disabled-bg-color: #3B4455;\n",
              "      --disabled-fill-color: #666;\n",
              "  }\n",
              "\n",
              "  .colab-df-quickchart {\n",
              "    background-color: var(--bg-color);\n",
              "    border: none;\n",
              "    border-radius: 50%;\n",
              "    cursor: pointer;\n",
              "    display: none;\n",
              "    fill: var(--fill-color);\n",
              "    height: 32px;\n",
              "    padding: 0;\n",
              "    width: 32px;\n",
              "  }\n",
              "\n",
              "  .colab-df-quickchart:hover {\n",
              "    background-color: var(--hover-bg-color);\n",
              "    box-shadow: 0 1px 2px rgba(60, 64, 67, 0.3), 0 1px 3px 1px rgba(60, 64, 67, 0.15);\n",
              "    fill: var(--button-hover-fill-color);\n",
              "  }\n",
              "\n",
              "  .colab-df-quickchart-complete:disabled,\n",
              "  .colab-df-quickchart-complete:disabled:hover {\n",
              "    background-color: var(--disabled-bg-color);\n",
              "    fill: var(--disabled-fill-color);\n",
              "    box-shadow: none;\n",
              "  }\n",
              "\n",
              "  .colab-df-spinner {\n",
              "    border: 2px solid var(--fill-color);\n",
              "    border-color: transparent;\n",
              "    border-bottom-color: var(--fill-color);\n",
              "    animation:\n",
              "      spin 1s steps(1) infinite;\n",
              "  }\n",
              "\n",
              "  @keyframes spin {\n",
              "    0% {\n",
              "      border-color: transparent;\n",
              "      border-bottom-color: var(--fill-color);\n",
              "      border-left-color: var(--fill-color);\n",
              "    }\n",
              "    20% {\n",
              "      border-color: transparent;\n",
              "      border-left-color: var(--fill-color);\n",
              "      border-top-color: var(--fill-color);\n",
              "    }\n",
              "    30% {\n",
              "      border-color: transparent;\n",
              "      border-left-color: var(--fill-color);\n",
              "      border-top-color: var(--fill-color);\n",
              "      border-right-color: var(--fill-color);\n",
              "    }\n",
              "    40% {\n",
              "      border-color: transparent;\n",
              "      border-right-color: var(--fill-color);\n",
              "      border-top-color: var(--fill-color);\n",
              "    }\n",
              "    60% {\n",
              "      border-color: transparent;\n",
              "      border-right-color: var(--fill-color);\n",
              "    }\n",
              "    80% {\n",
              "      border-color: transparent;\n",
              "      border-right-color: var(--fill-color);\n",
              "      border-bottom-color: var(--fill-color);\n",
              "    }\n",
              "    90% {\n",
              "      border-color: transparent;\n",
              "      border-bottom-color: var(--fill-color);\n",
              "    }\n",
              "  }\n",
              "</style>\n",
              "\n",
              "  <script>\n",
              "    async function quickchart(key) {\n",
              "      const quickchartButtonEl =\n",
              "        document.querySelector('#' + key + ' button');\n",
              "      quickchartButtonEl.disabled = true;  // To prevent multiple clicks.\n",
              "      quickchartButtonEl.classList.add('colab-df-spinner');\n",
              "      try {\n",
              "        const charts = await google.colab.kernel.invokeFunction(\n",
              "            'suggestCharts', [key], {});\n",
              "      } catch (error) {\n",
              "        console.error('Error during call to suggestCharts:', error);\n",
              "      }\n",
              "      quickchartButtonEl.classList.remove('colab-df-spinner');\n",
              "      quickchartButtonEl.classList.add('colab-df-quickchart-complete');\n",
              "    }\n",
              "    (() => {\n",
              "      let quickchartButtonEl =\n",
              "        document.querySelector('#df-275d517b-c12a-45bf-9ff0-fe30161cbcf7 button');\n",
              "      quickchartButtonEl.style.display =\n",
              "        google.colab.kernel.accessAllowed ? 'block' : 'none';\n",
              "    })();\n",
              "  </script>\n",
              "</div>\n",
              "    </div>\n",
              "  </div>\n"
            ]
          },
          "metadata": {},
          "execution_count": 21
        }
      ],
      "source": [
        "test_df"
      ]
    },
    {
      "cell_type": "code",
      "source": [
        "test_df.info()"
      ],
      "metadata": {
        "colab": {
          "base_uri": "https://localhost:8080/"
        },
        "id": "7RBB_XBc4Lyl",
        "outputId": "482a01e1-686a-4f08-825e-b80b2cce96be"
      },
      "execution_count": 71,
      "outputs": [
        {
          "output_type": "stream",
          "name": "stdout",
          "text": [
            "<class 'pandas.core.frame.DataFrame'>\n",
            "RangeIndex: 2184 entries, 0 to 2183\n",
            "Data columns (total 5 columns):\n",
            " #   Column                              Non-Null Count  Dtype \n",
            "---  ------                              --------------  ----- \n",
            " 0   ID                                  2184 non-null   int64 \n",
            " 1   rus                                 2184 non-null   object\n",
            " 2   Татарское предложение               2138 non-null   object\n",
            " 3   Исправленные татарские предложения  2122 non-null   object\n",
            " 4   tat                                 2184 non-null   object\n",
            "dtypes: int64(1), object(4)\n",
            "memory usage: 85.4+ KB\n"
          ]
        }
      ]
    },
    {
      "cell_type": "code",
      "execution_count": 22,
      "metadata": {
        "id": "x3Td3m1NO3M6"
      },
      "outputs": [],
      "source": [
        "rus_list = test_df['rus'].to_list()\n",
        "tat_list = test_df['Исправленные татарские предложения'].to_list()"
      ]
    },
    {
      "cell_type": "code",
      "execution_count": null,
      "metadata": {
        "id": "wdQrQPnrR_DB"
      },
      "outputs": [],
      "source": [
        "tatsoft_trans = Translate()"
      ]
    },
    {
      "cell_type": "code",
      "execution_count": null,
      "metadata": {
        "id": "VbN3cwFKS9Xb"
      },
      "outputs": [],
      "source": [
        "tat_to_ru['tatsoft'] = []\n",
        "ru_to_tat['tatsoft'] = []"
      ]
    },
    {
      "cell_type": "code",
      "execution_count": null,
      "metadata": {
        "colab": {
          "background_save": true,
          "base_uri": "https://localhost:8080/"
        },
        "id": "DrfsYo7YSbR2",
        "outputId": "0c2a97a1-23fc-41e9-980d-e1d5dbdcd1e0"
      },
      "outputs": [
        {
          "name": "stderr",
          "output_type": "stream",
          "text": [
            "2184it [2:02:27,  3.36s/it]\n"
          ]
        }
      ],
      "source": [
        "\n",
        "for sent_rus, sent_tat in tqdm(zip(rus_list, tat_list)):\n",
        "    # translate_dict['google'].append(google.translate(sent, lang))\n",
        "    # translate_dict['yandex'].append(yandex.translate(sent, lang))\n",
        "    ru_to_tat['tatsoft'].append(tatsoft_trans.rus2tat(str(sent_rus)))\n",
        "    tat_to_ru['tatsoft'].append(tatsoft_trans.tat2rus(str(sent_tat)))"
      ]
    },
    {
      "cell_type": "code",
      "execution_count": null,
      "metadata": {
        "id": "Y4yzNmULSoUW"
      },
      "outputs": [],
      "source": [
        "from tqdm import tqdm\n",
        "\n",
        "def get_translate_dict(text, lang):\n",
        "  translate_dict = {'google': [], 'yandex': [], 'tatsoft': []}\n",
        "  for sent in tqdm(text):\n",
        "    # translate_dict['google'].append(google.translate(sent, lang))\n",
        "    translate_dict['yandex'].append(yandex.translate(sent, lang))\n",
        "    if lang == 'Tatar':\n",
        "      translate_dict['tatsoft'].append(tatsoft_trans.rus2tat(sent))\n",
        "    else:\n",
        "      translate_dict['tatsoft'].append(tatsoft_trans.tat2rus(sent))\n",
        "    # print(sent)\n",
        "    # print(translate_dict)\n",
        "  return translate_dict"
      ]
    },
    {
      "cell_type": "code",
      "execution_count": null,
      "metadata": {
        "colab": {
          "base_uri": "https://localhost:8080/"
        },
        "id": "L3XFxZRCVdII",
        "outputId": "072a69d9-63c5-410c-b645-2822c43d9fb8"
      },
      "outputs": [
        {
          "name": "stderr",
          "output_type": "stream",
          "text": [
            "100%|██████████| 2184/2184 [1:17:08<00:00,  2.12s/it]\n"
          ]
        }
      ],
      "source": [
        "ru_to_tat = get_translate_dict(rus_list, 'Tatar')"
      ]
    },
    {
      "cell_type": "code",
      "execution_count": null,
      "metadata": {
        "colab": {
          "base_uri": "https://localhost:8080/"
        },
        "id": "ZQp6YCc_ZeKa",
        "outputId": "57f539b8-5181-4c18-f183-88b23ca6d65a"
      },
      "outputs": [
        {
          "name": "stderr",
          "output_type": "stream",
          "text": [
            "100%|██████████| 2184/2184 [1:19:32<00:00,  2.19s/it]\n"
          ]
        }
      ],
      "source": [
        "tat_to_ru = get_translate_dict(tat_list, 'Russian')"
      ]
    },
    {
      "cell_type": "code",
      "execution_count": null,
      "metadata": {
        "id": "1AmR3eUTBLFK"
      },
      "outputs": [],
      "source": [
        "ru_to_tat['yandex'] = [sent.result for sent in ru_to_tat['yandex']]\n",
        "# tat_to_ru['yandex'] = [sent.result for sent in tat_to_ru['yandex']]"
      ]
    },
    {
      "cell_type": "code",
      "execution_count": null,
      "metadata": {
        "id": "wXMRbsQEhHX4"
      },
      "outputs": [],
      "source": [
        "r2t_copy = ru_to_tat"
      ]
    },
    {
      "cell_type": "code",
      "execution_count": 7,
      "metadata": {
        "id": "DZjBIU3MO8RB"
      },
      "outputs": [],
      "source": [
        "import pickle"
      ]
    },
    {
      "cell_type": "code",
      "execution_count": null,
      "metadata": {
        "colab": {
          "background_save": true
        },
        "id": "CCaspEw1hEHx"
      },
      "outputs": [],
      "source": [
        "with open('/content/drive/MyDrive/ru_to_tat.pkl', 'wb') as file:\n",
        "  pickle.dump(ru_to_tat, file)"
      ]
    },
    {
      "cell_type": "code",
      "execution_count": null,
      "metadata": {
        "colab": {
          "background_save": true
        },
        "id": "1ADdtu9-2wpX"
      },
      "outputs": [],
      "source": [
        "\n",
        "with open('/content/drive/MyDrive/tat_to_ru.pkl', 'wb') as file:\n",
        "  pickle.dump(tat_to_ru, file)"
      ]
    },
    {
      "cell_type": "code",
      "execution_count": 8,
      "metadata": {
        "id": "m86FXfHNOwV9"
      },
      "outputs": [],
      "source": [
        "with open('/content/drive/MyDrive/ru_to_tat.pkl', 'rb') as file:\n",
        "  ru_to_tat = pickle.load(file)\n",
        "\n",
        "with open('/content/drive/MyDrive/tat_to_ru.pkl', 'rb') as file:\n",
        "  tat_to_ru = pickle.load(file)"
      ]
    },
    {
      "cell_type": "code",
      "execution_count": 9,
      "metadata": {
        "id": "tWkfjyG3_U-u"
      },
      "outputs": [],
      "source": [
        "google_list = tat_to_ru['google']\n",
        "yandex_list = tat_to_ru['yandex']\n",
        "tatsoft_list = tat_to_ru['tatsoft']\n",
        "# ru_to_tat_bleu = {'google': [], 'yandex': [], 'tatsoft': []}"
      ]
    },
    {
      "cell_type": "code",
      "execution_count": 10,
      "metadata": {
        "id": "ZOk1UOnRjFxh"
      },
      "outputs": [],
      "source": [
        "tatsoft_list_tat = ru_to_tat['tatsoft']\n",
        "yandex_list_tat = ru_to_tat['yandex']"
      ]
    },
    {
      "cell_type": "code",
      "source": [
        "inds = [i for i in range(len(tatsoft_list_tat)) if tatsoft_list_tat[i][0] == '<']"
      ],
      "metadata": {
        "id": "aAFmQOa-JBbm"
      },
      "execution_count": 14,
      "outputs": []
    },
    {
      "cell_type": "code",
      "source": [
        "inds_1 = [i for i in range(len(tatsoft_list)) if tatsoft_list[i][0] == '<']"
      ],
      "metadata": {
        "id": "8WoKiAhOJRof"
      },
      "execution_count": 17,
      "outputs": []
    },
    {
      "cell_type": "code",
      "source": [
        "new_ya_list = []\n",
        "new_ts_list = []\n",
        "new_ya_list_tat = []\n",
        "new_ts_list_tat = []\n",
        "new_rus_list = []\n",
        "new_tat_list = []"
      ],
      "metadata": {
        "id": "ozKcMB2TMJL2"
      },
      "execution_count": 26,
      "outputs": []
    },
    {
      "cell_type": "code",
      "source": [
        "new_ya_list1 = []\n",
        "new_ts_list1 = []\n",
        "new_ya_list_tat1 = []\n",
        "new_ts_list_tat1 = []\n",
        "new_rus_list1 = []\n",
        "new_tat_list1 = []"
      ],
      "metadata": {
        "id": "axhQuiua5QfN"
      },
      "execution_count": 105,
      "outputs": []
    },
    {
      "cell_type": "code",
      "source": [
        "type(new_tat_list[283])"
      ],
      "metadata": {
        "colab": {
          "base_uri": "https://localhost:8080/"
        },
        "id": "qBWtb4Bk5pLA",
        "outputId": "af53f520-7012-47fe-bee3-38182686eb27"
      },
      "execution_count": 77,
      "outputs": [
        {
          "output_type": "execute_result",
          "data": {
            "text/plain": [
              "float"
            ]
          },
          "metadata": {},
          "execution_count": 77
        }
      ]
    },
    {
      "cell_type": "code",
      "source": [
        "inds = [i for i in range(len(new_tat_list)) if str(new_tat_list[i]) == 'nan']"
      ],
      "metadata": {
        "id": "h_IxN9igL57j"
      },
      "execution_count": 80,
      "outputs": []
    },
    {
      "cell_type": "code",
      "source": [
        "err_tat = []\n",
        "err_rus = []\n",
        "for i in range(len(tatsoft_list)):\n",
        "  if i in inds:\n",
        "    err_tat.append(tat_list[i])\n",
        "    err_rus.append(rus_list[i])"
      ],
      "metadata": {
        "id": "BGmW5FVqv_BU"
      },
      "execution_count": 47,
      "outputs": []
    },
    {
      "cell_type": "code",
      "source": [
        "pd.DataFrame({'rus': err_rus, 'tat': err_tat}).to_excel('/content/drive/MyDrive/errors.xlsx')"
      ],
      "metadata": {
        "id": "I1IXjsKmww7K"
      },
      "execution_count": 50,
      "outputs": []
    },
    {
      "cell_type": "code",
      "source": [
        "new_tat_list[283]"
      ],
      "metadata": {
        "colab": {
          "base_uri": "https://localhost:8080/"
        },
        "id": "1XV4jdsr3_lD",
        "outputId": "03cf28cc-80d3-4306-e866-8541cc226d51"
      },
      "execution_count": 69,
      "outputs": [
        {
          "output_type": "execute_result",
          "data": {
            "text/plain": [
              "nan"
            ]
          },
          "metadata": {},
          "execution_count": 69
        }
      ]
    },
    {
      "cell_type": "code",
      "source": [
        "new_ts_list_tat[283]"
      ],
      "metadata": {
        "colab": {
          "base_uri": "https://localhost:8080/",
          "height": 36
        },
        "id": "5aGfIkd_4E-Q",
        "outputId": "69bf60ad-273d-4310-ac8f-11ff82db067c"
      },
      "execution_count": 70,
      "outputs": [
        {
          "output_type": "execute_result",
          "data": {
            "text/plain": [
              "'Моннан тыш, 60 сутый җирдә яшелчә, җиләк-җимеш үстерәбез.'"
            ],
            "application/vnd.google.colaboratory.intrinsic+json": {
              "type": "string"
            }
          },
          "metadata": {},
          "execution_count": 70
        }
      ]
    },
    {
      "cell_type": "code",
      "source": [
        "new_tat_list[-3]"
      ],
      "metadata": {
        "colab": {
          "base_uri": "https://localhost:8080/",
          "height": 36
        },
        "id": "9lJJL5Q82b7X",
        "outputId": "9b0b511a-352c-4d49-dcdf-bdbd04847b89"
      },
      "execution_count": 61,
      "outputs": [
        {
          "output_type": "execute_result",
          "data": {
            "text/plain": [
              "'Сугышка атлыгып торган яшьләр - шулар арасында Акбога белән Котан да инде бирелә башлаганнар иде , шул чакны Утташ камның тавышы ишетелде .'"
            ],
            "application/vnd.google.colaboratory.intrinsic+json": {
              "type": "string"
            }
          },
          "metadata": {},
          "execution_count": 61
        }
      ]
    },
    {
      "cell_type": "code",
      "source": [
        "new_ts_list_tat[-3]"
      ],
      "metadata": {
        "colab": {
          "base_uri": "https://localhost:8080/",
          "height": 36
        },
        "id": "ND_urYL92Smd",
        "outputId": "6984decf-d9c3-4f95-c5e8-dd5b9748bb6f"
      },
      "execution_count": 62,
      "outputs": [
        {
          "output_type": "execute_result",
          "data": {
            "text/plain": [
              "'Алар арасында Акбога белән Котан да бар иде. Шулай да алар бирешә башладылар. Шунда кинәт Утташ кам тавышы ишетелде.'"
            ],
            "application/vnd.google.colaboratory.intrinsic+json": {
              "type": "string"
            }
          },
          "metadata": {},
          "execution_count": 62
        }
      ]
    },
    {
      "cell_type": "code",
      "source": [
        "bleu.compute(predictions=[new_ts_list_tat[-3]], references=[new_tat_list[-3]], smooth=True)"
      ],
      "metadata": {
        "colab": {
          "base_uri": "https://localhost:8080/"
        },
        "id": "4PsgDV852xT6",
        "outputId": "3255c10b-eda7-4894-a196-7f3891464bfc"
      },
      "execution_count": 63,
      "outputs": [
        {
          "output_type": "execute_result",
          "data": {
            "text/plain": [
              "{'bleu': 0.25945072342845227,\n",
              " 'precisions': [0.4782608695652174,\n",
              "  0.3181818181818182,\n",
              "  0.23809523809523808,\n",
              "  0.15],\n",
              " 'brevity_penalty': 0.9555630362682843,\n",
              " 'length_ratio': 0.9565217391304348,\n",
              " 'translation_length': 22,\n",
              " 'reference_length': 23}"
            ]
          },
          "metadata": {},
          "execution_count": 63
        }
      ]
    },
    {
      "cell_type": "code",
      "source": [
        "bleu.compute(predictions=[new_ts_list_tat[-3]], references=[new_tat_list[-3]])"
      ],
      "metadata": {
        "colab": {
          "base_uri": "https://localhost:8080/"
        },
        "id": "tEsC1g8T25xp",
        "outputId": "b57abd18-02b1-4a53-e4ec-e50493c8b84e"
      },
      "execution_count": 64,
      "outputs": [
        {
          "output_type": "execute_result",
          "data": {
            "text/plain": [
              "{'bleu': 0.21850594525107195,\n",
              " 'precisions': [0.45454545454545453,\n",
              "  0.2857142857142857,\n",
              "  0.2,\n",
              "  0.10526315789473684],\n",
              " 'brevity_penalty': 0.9555630362682843,\n",
              " 'length_ratio': 0.9565217391304348,\n",
              " 'translation_length': 22,\n",
              " 'reference_length': 23}"
            ]
          },
          "metadata": {},
          "execution_count": 64
        }
      ]
    },
    {
      "cell_type": "code",
      "source": [
        "for i in range(len(new_ya_list)):\n",
        "  if i in inds:\n",
        "    continue\n",
        "  else:\n",
        "    new_ya_list1.append(new_ya_list[i])\n",
        "    new_ya_list_tat1.append(new_ya_list_tat[i])\n",
        "    new_ts_list1.append(new_ts_list[i])\n",
        "    new_ts_list_tat1.append(new_ts_list_tat[i])\n",
        "    new_rus_list1.append(new_rus_list[i])\n",
        "    new_tat_list1.append(new_tat_list[i])"
      ],
      "metadata": {
        "id": "1R_feNsNMWGw"
      },
      "execution_count": 106,
      "outputs": []
    },
    {
      "cell_type": "code",
      "source": [
        "len(new_ya_list1)"
      ],
      "metadata": {
        "colab": {
          "base_uri": "https://localhost:8080/"
        },
        "id": "TG9Q8hLL6XMe",
        "outputId": "5821c37f-43b2-4380-c97d-88af03bdb22a"
      },
      "execution_count": 107,
      "outputs": [
        {
          "output_type": "execute_result",
          "data": {
            "text/plain": [
              "2095"
            ]
          },
          "metadata": {},
          "execution_count": 107
        }
      ]
    },
    {
      "cell_type": "code",
      "source": [
        "pd.DataFrame({'rus': new_rus_list1, 'tat': new_tat_list1}).to_excel('/content/drive/MyDrive/no_errors.xlsx')"
      ],
      "metadata": {
        "id": "2QE1LSPm6Yi2"
      },
      "execution_count": 87,
      "outputs": []
    },
    {
      "cell_type": "code",
      "execution_count": 115,
      "metadata": {
        "id": "nT3W64QQ15Gs"
      },
      "outputs": [],
      "source": [
        "result_dict = {'1-gramm': [], '2-gramm': [], '3-gramm': [], '4-gramm': [], '5-gramm': [], '6-gramm': [], '7-gramm': [], '8-gramm': [], '9-gramm': [], '10-gramm': []}\n"
      ]
    },
    {
      "cell_type": "code",
      "execution_count": 31,
      "metadata": {
        "colab": {
          "base_uri": "https://localhost:8080/",
          "height": 150,
          "referenced_widgets": [
            "18a44eec386944609566eff79f8e0b2e",
            "3d65f8da2013462e9036cd642f2f5910",
            "2bd752644d0e4b99913df590f6e8cfdc",
            "22c5fc8005cf433f9b17cc3f76a408b5",
            "db70949ae0cf46cb8bc3bf1095999d54",
            "599f02cbf9c842babcab5a6af4c4658c",
            "260e5cdc8b8a4dd38eced141e0ef8c29",
            "e8783934adc846faab8d7b5bd2182250",
            "8e081c27507f4d4abefa7984b4787025",
            "b86c7bd2ecb74704b8e4bae6f88eedf6",
            "c66b1acda066415f84a51ffcb2bb0672",
            "08dd691d96034d0eb290e546bda622a9",
            "9cc5bf7683b1404595042d0881e28503",
            "875b79b88c0a4f28952701c0ac623ea9",
            "6b239d06c690423fbe6bc58c7cc3dab1",
            "b720dc810163421fa784f2c2f455f6cd",
            "226825a51c714e1d9107f24d1e55e8ae",
            "6febbec46b1845c8a3518d15c81c289c",
            "9a3ee134793e4eb28a3542bf970b605d",
            "5cbca66280cc429fb4e5e9d445692ae1",
            "85272fb153ba4d53a6aa8977714a10d5",
            "ef069c4550be48f6b358229adddd4b97",
            "d03c18d536234fd2917d28c073297def",
            "b162b1c02807417382c69372cc0b6169",
            "41cc9b4bbbae453692113b78723e39bf",
            "ba4ae9a0e3344a9cae92daba23d1bd6e",
            "22cbc076944e4abb90f6468ca3df9c34",
            "e1d3dd7692144299957d5bd0352f8128",
            "d7d1f25e62974978884602bd4514524b",
            "11261a9d48904a95a8c92c76ded981fc",
            "f5f5fc4296974939898e6b6631b9024e",
            "72de631007f24a6082f5790a65b1b42e",
            "926727a9417f4fbea102ae9bdac05184"
          ]
        },
        "id": "yTpGN79O-BK0",
        "outputId": "2c808195-ba77-44cf-e5ae-2d6e7f589494"
      },
      "outputs": [
        {
          "output_type": "display_data",
          "data": {
            "text/plain": [
              "Downloading builder script:   0%|          | 0.00/5.94k [00:00<?, ?B/s]"
            ],
            "application/vnd.jupyter.widget-view+json": {
              "version_major": 2,
              "version_minor": 0,
              "model_id": "18a44eec386944609566eff79f8e0b2e"
            }
          },
          "metadata": {}
        },
        {
          "output_type": "display_data",
          "data": {
            "text/plain": [
              "Downloading extra modules:   0%|          | 0.00/1.55k [00:00<?, ?B/s]"
            ],
            "application/vnd.jupyter.widget-view+json": {
              "version_major": 2,
              "version_minor": 0,
              "model_id": "08dd691d96034d0eb290e546bda622a9"
            }
          },
          "metadata": {}
        },
        {
          "output_type": "display_data",
          "data": {
            "text/plain": [
              "Downloading extra modules:   0%|          | 0.00/3.34k [00:00<?, ?B/s]"
            ],
            "application/vnd.jupyter.widget-view+json": {
              "version_major": 2,
              "version_minor": 0,
              "model_id": "d03c18d536234fd2917d28c073297def"
            }
          },
          "metadata": {}
        },
        {
          "output_type": "stream",
          "name": "stdout",
          "text": [
            "{'bleu': 0.3059893698493084, 'precisions': [0.5179255453356882, 0.34684760823895877, 0.2547337880484577, 0.1915723236614946], 'brevity_penalty': 1.0, 'length_ratio': 1.2945630549039404, 'translation_length': 43597, 'reference_length': 33677}\n"
          ]
        }
      ],
      "source": [
        "import evaluate\n",
        "bleu = evaluate.load(\"bleu\")\n",
        "results = bleu.compute(predictions=tatsoft_list, references=rus_list)\n",
        "print(results)"
      ]
    },
    {
      "cell_type": "code",
      "execution_count": 116,
      "metadata": {
        "id": "Tj4i3f1c2z9L"
      },
      "outputs": [],
      "source": [
        "for i in range(10):\n",
        "  result_dict[f'{i+1}-gramm'].append(bleu.compute(predictions=new_ts_list1, references=new_rus_list1, max_order=i+1)['bleu'] * 100)\n",
        "  result_dict[f'{i+1}-gramm'].append(bleu.compute(predictions=new_ts_list1, references=new_rus_list1, max_order=i+1, smooth=True)['bleu'] * 100)\n",
        "  result_dict[f'{i+1}-gramm'].append(bleu.compute(predictions=new_ya_list1, references=new_rus_list1, max_order=i+1)['bleu'] * 100)\n",
        "  result_dict[f'{i+1}-gramm'].append(bleu.compute(predictions=new_ya_list1, references=new_rus_list1, max_order=i+1, smooth=True)['bleu'] * 100)\n",
        "  result_dict[f'{i+1}-gramm'].append(bleu.compute(predictions=new_ts_list_tat1, references=new_tat_list1, max_order=i+1)['bleu'] * 100)\n",
        "  result_dict[f'{i+1}-gramm'].append(bleu.compute(predictions=new_ts_list_tat1, references=new_tat_list1, max_order=i+1, smooth=True)['bleu'] * 100)\n",
        "  result_dict[f'{i+1}-gramm'].append(bleu.compute(predictions=new_ya_list_tat1, references=new_tat_list1, max_order=i+1)['bleu'] * 100)\n",
        "  result_dict[f'{i+1}-gramm'].append(bleu.compute(predictions=new_ya_list_tat1, references=new_tat_list1, max_order=i+1, smooth=True)['bleu'] * 100)"
      ]
    },
    {
      "cell_type": "code",
      "source": [
        "len(new_ts_list_tat1)"
      ],
      "metadata": {
        "colab": {
          "base_uri": "https://localhost:8080/"
        },
        "id": "A1P-Bj2Z__lb",
        "outputId": "e579e643-7837-498c-c65b-0f707778af6c"
      },
      "execution_count": 117,
      "outputs": [
        {
          "output_type": "execute_result",
          "data": {
            "text/plain": [
              "2095"
            ]
          },
          "metadata": {},
          "execution_count": 117
        }
      ]
    },
    {
      "cell_type": "code",
      "execution_count": 118,
      "metadata": {
        "id": "b08cfxYs3Qy6"
      },
      "outputs": [],
      "source": [
        "result_df = pd.DataFrame(result_dict)"
      ]
    },
    {
      "cell_type": "code",
      "execution_count": 119,
      "metadata": {
        "id": "PdCmjQsD6fjO"
      },
      "outputs": [],
      "source": [
        "index = ['tatsoft, no smooth, tat2rus', 'tatsoft, with smooth, tat2rus', 'yandex, no smooth, tat2rus', 'yandex, with smooth, tat2rus', 'tatsoft, no smooth, rus2tat', 'tatsoft, with smooth, rus2tat', 'yandex, no smooth, rus2tat', 'yandex, with smooth, rus2tat']"
      ]
    },
    {
      "cell_type": "code",
      "execution_count": 120,
      "metadata": {
        "id": "1xvsOPs63Qwi"
      },
      "outputs": [],
      "source": [
        "result_df.index = index"
      ]
    },
    {
      "cell_type": "code",
      "execution_count": 121,
      "metadata": {
        "colab": {
          "base_uri": "https://localhost:8080/",
          "height": 300
        },
        "id": "fTt-errp3QsZ",
        "outputId": "49e1eea9-49b8-4d1c-da17-f7734208e868"
      },
      "outputs": [
        {
          "output_type": "execute_result",
          "data": {
            "text/plain": [
              "                                 1-gramm    2-gramm    3-gramm    4-gramm  \\\n",
              "tatsoft, no smooth, tat2rus    69.846381  57.839185  49.368249  42.731334   \n",
              "tatsoft, with smooth, tat2rus  69.847298  57.840606  49.370107  42.733621   \n",
              "yandex, no smooth, tat2rus     70.369277  58.533514  50.096518  43.461691   \n",
              "yandex, with smooth, tat2rus   70.370200  58.534928  50.098360  43.463955   \n",
              "tatsoft, no smooth, rus2tat    65.792646  54.183798  45.729667  39.184626   \n",
              "tatsoft, with smooth, rus2tat  65.793593  54.185264  45.731606  39.187032   \n",
              "yandex, no smooth, rus2tat     60.337264  47.550169  38.636142  31.968680   \n",
              "yandex, with smooth, rus2tat   60.338352  47.551869  38.638395  31.971487   \n",
              "\n",
              "                                 5-gramm    6-gramm    7-gramm    8-gramm  \\\n",
              "tatsoft, no smooth, tat2rus    37.419136  33.094417  29.540279  26.602766   \n",
              "tatsoft, with smooth, tat2rus  37.421859  33.097591  29.543923  26.606900   \n",
              "yandex, no smooth, tat2rus     38.073984  33.580857  29.793812  26.602194   \n",
              "yandex, with smooth, tat2rus   38.076682  33.584022  29.797481  26.606409   \n",
              "tatsoft, no smooth, rus2tat    33.967243  29.704970  26.174093  23.202693   \n",
              "tatsoft, with smooth, rus2tat  33.970132  29.708374  26.178054  23.207270   \n",
              "yandex, no smooth, rus2tat     26.834444  22.732526  19.409734  16.679723   \n",
              "yandex, with smooth, rus2tat   26.837829  22.736548  19.414468  16.685269   \n",
              "\n",
              "                                 9-gramm   10-gramm  \n",
              "tatsoft, no smooth, tat2rus    24.127041  22.055370  \n",
              "tatsoft, with smooth, tat2rus  24.131698  22.060577  \n",
              "yandex, no smooth, tat2rus     23.863823  21.500518  \n",
              "yandex, with smooth, tat2rus   23.868642  21.506011  \n",
              "tatsoft, no smooth, rus2tat    20.689338  18.562593  \n",
              "tatsoft, with smooth, rus2tat  20.694595  18.568595  \n",
              "yandex, no smooth, rus2tat     14.406413  12.508406  \n",
              "yandex, with smooth, rus2tat   14.412897  12.515974  "
            ],
            "text/html": [
              "\n",
              "  <div id=\"df-843b34a5-3335-4ab7-bf96-69d21e671ffe\" class=\"colab-df-container\">\n",
              "    <div>\n",
              "<style scoped>\n",
              "    .dataframe tbody tr th:only-of-type {\n",
              "        vertical-align: middle;\n",
              "    }\n",
              "\n",
              "    .dataframe tbody tr th {\n",
              "        vertical-align: top;\n",
              "    }\n",
              "\n",
              "    .dataframe thead th {\n",
              "        text-align: right;\n",
              "    }\n",
              "</style>\n",
              "<table border=\"1\" class=\"dataframe\">\n",
              "  <thead>\n",
              "    <tr style=\"text-align: right;\">\n",
              "      <th></th>\n",
              "      <th>1-gramm</th>\n",
              "      <th>2-gramm</th>\n",
              "      <th>3-gramm</th>\n",
              "      <th>4-gramm</th>\n",
              "      <th>5-gramm</th>\n",
              "      <th>6-gramm</th>\n",
              "      <th>7-gramm</th>\n",
              "      <th>8-gramm</th>\n",
              "      <th>9-gramm</th>\n",
              "      <th>10-gramm</th>\n",
              "    </tr>\n",
              "  </thead>\n",
              "  <tbody>\n",
              "    <tr>\n",
              "      <th>tatsoft, no smooth, tat2rus</th>\n",
              "      <td>69.846381</td>\n",
              "      <td>57.839185</td>\n",
              "      <td>49.368249</td>\n",
              "      <td>42.731334</td>\n",
              "      <td>37.419136</td>\n",
              "      <td>33.094417</td>\n",
              "      <td>29.540279</td>\n",
              "      <td>26.602766</td>\n",
              "      <td>24.127041</td>\n",
              "      <td>22.055370</td>\n",
              "    </tr>\n",
              "    <tr>\n",
              "      <th>tatsoft, with smooth, tat2rus</th>\n",
              "      <td>69.847298</td>\n",
              "      <td>57.840606</td>\n",
              "      <td>49.370107</td>\n",
              "      <td>42.733621</td>\n",
              "      <td>37.421859</td>\n",
              "      <td>33.097591</td>\n",
              "      <td>29.543923</td>\n",
              "      <td>26.606900</td>\n",
              "      <td>24.131698</td>\n",
              "      <td>22.060577</td>\n",
              "    </tr>\n",
              "    <tr>\n",
              "      <th>yandex, no smooth, tat2rus</th>\n",
              "      <td>70.369277</td>\n",
              "      <td>58.533514</td>\n",
              "      <td>50.096518</td>\n",
              "      <td>43.461691</td>\n",
              "      <td>38.073984</td>\n",
              "      <td>33.580857</td>\n",
              "      <td>29.793812</td>\n",
              "      <td>26.602194</td>\n",
              "      <td>23.863823</td>\n",
              "      <td>21.500518</td>\n",
              "    </tr>\n",
              "    <tr>\n",
              "      <th>yandex, with smooth, tat2rus</th>\n",
              "      <td>70.370200</td>\n",
              "      <td>58.534928</td>\n",
              "      <td>50.098360</td>\n",
              "      <td>43.463955</td>\n",
              "      <td>38.076682</td>\n",
              "      <td>33.584022</td>\n",
              "      <td>29.797481</td>\n",
              "      <td>26.606409</td>\n",
              "      <td>23.868642</td>\n",
              "      <td>21.506011</td>\n",
              "    </tr>\n",
              "    <tr>\n",
              "      <th>tatsoft, no smooth, rus2tat</th>\n",
              "      <td>65.792646</td>\n",
              "      <td>54.183798</td>\n",
              "      <td>45.729667</td>\n",
              "      <td>39.184626</td>\n",
              "      <td>33.967243</td>\n",
              "      <td>29.704970</td>\n",
              "      <td>26.174093</td>\n",
              "      <td>23.202693</td>\n",
              "      <td>20.689338</td>\n",
              "      <td>18.562593</td>\n",
              "    </tr>\n",
              "    <tr>\n",
              "      <th>tatsoft, with smooth, rus2tat</th>\n",
              "      <td>65.793593</td>\n",
              "      <td>54.185264</td>\n",
              "      <td>45.731606</td>\n",
              "      <td>39.187032</td>\n",
              "      <td>33.970132</td>\n",
              "      <td>29.708374</td>\n",
              "      <td>26.178054</td>\n",
              "      <td>23.207270</td>\n",
              "      <td>20.694595</td>\n",
              "      <td>18.568595</td>\n",
              "    </tr>\n",
              "    <tr>\n",
              "      <th>yandex, no smooth, rus2tat</th>\n",
              "      <td>60.337264</td>\n",
              "      <td>47.550169</td>\n",
              "      <td>38.636142</td>\n",
              "      <td>31.968680</td>\n",
              "      <td>26.834444</td>\n",
              "      <td>22.732526</td>\n",
              "      <td>19.409734</td>\n",
              "      <td>16.679723</td>\n",
              "      <td>14.406413</td>\n",
              "      <td>12.508406</td>\n",
              "    </tr>\n",
              "    <tr>\n",
              "      <th>yandex, with smooth, rus2tat</th>\n",
              "      <td>60.338352</td>\n",
              "      <td>47.551869</td>\n",
              "      <td>38.638395</td>\n",
              "      <td>31.971487</td>\n",
              "      <td>26.837829</td>\n",
              "      <td>22.736548</td>\n",
              "      <td>19.414468</td>\n",
              "      <td>16.685269</td>\n",
              "      <td>14.412897</td>\n",
              "      <td>12.515974</td>\n",
              "    </tr>\n",
              "  </tbody>\n",
              "</table>\n",
              "</div>\n",
              "    <div class=\"colab-df-buttons\">\n",
              "\n",
              "  <div class=\"colab-df-container\">\n",
              "    <button class=\"colab-df-convert\" onclick=\"convertToInteractive('df-843b34a5-3335-4ab7-bf96-69d21e671ffe')\"\n",
              "            title=\"Convert this dataframe to an interactive table.\"\n",
              "            style=\"display:none;\">\n",
              "\n",
              "  <svg xmlns=\"http://www.w3.org/2000/svg\" height=\"24px\" viewBox=\"0 -960 960 960\">\n",
              "    <path d=\"M120-120v-720h720v720H120Zm60-500h600v-160H180v160Zm220 220h160v-160H400v160Zm0 220h160v-160H400v160ZM180-400h160v-160H180v160Zm440 0h160v-160H620v160ZM180-180h160v-160H180v160Zm440 0h160v-160H620v160Z\"/>\n",
              "  </svg>\n",
              "    </button>\n",
              "\n",
              "  <style>\n",
              "    .colab-df-container {\n",
              "      display:flex;\n",
              "      gap: 12px;\n",
              "    }\n",
              "\n",
              "    .colab-df-convert {\n",
              "      background-color: #E8F0FE;\n",
              "      border: none;\n",
              "      border-radius: 50%;\n",
              "      cursor: pointer;\n",
              "      display: none;\n",
              "      fill: #1967D2;\n",
              "      height: 32px;\n",
              "      padding: 0 0 0 0;\n",
              "      width: 32px;\n",
              "    }\n",
              "\n",
              "    .colab-df-convert:hover {\n",
              "      background-color: #E2EBFA;\n",
              "      box-shadow: 0px 1px 2px rgba(60, 64, 67, 0.3), 0px 1px 3px 1px rgba(60, 64, 67, 0.15);\n",
              "      fill: #174EA6;\n",
              "    }\n",
              "\n",
              "    .colab-df-buttons div {\n",
              "      margin-bottom: 4px;\n",
              "    }\n",
              "\n",
              "    [theme=dark] .colab-df-convert {\n",
              "      background-color: #3B4455;\n",
              "      fill: #D2E3FC;\n",
              "    }\n",
              "\n",
              "    [theme=dark] .colab-df-convert:hover {\n",
              "      background-color: #434B5C;\n",
              "      box-shadow: 0px 1px 3px 1px rgba(0, 0, 0, 0.15);\n",
              "      filter: drop-shadow(0px 1px 2px rgba(0, 0, 0, 0.3));\n",
              "      fill: #FFFFFF;\n",
              "    }\n",
              "  </style>\n",
              "\n",
              "    <script>\n",
              "      const buttonEl =\n",
              "        document.querySelector('#df-843b34a5-3335-4ab7-bf96-69d21e671ffe button.colab-df-convert');\n",
              "      buttonEl.style.display =\n",
              "        google.colab.kernel.accessAllowed ? 'block' : 'none';\n",
              "\n",
              "      async function convertToInteractive(key) {\n",
              "        const element = document.querySelector('#df-843b34a5-3335-4ab7-bf96-69d21e671ffe');\n",
              "        const dataTable =\n",
              "          await google.colab.kernel.invokeFunction('convertToInteractive',\n",
              "                                                    [key], {});\n",
              "        if (!dataTable) return;\n",
              "\n",
              "        const docLinkHtml = 'Like what you see? Visit the ' +\n",
              "          '<a target=\"_blank\" href=https://colab.research.google.com/notebooks/data_table.ipynb>data table notebook</a>'\n",
              "          + ' to learn more about interactive tables.';\n",
              "        element.innerHTML = '';\n",
              "        dataTable['output_type'] = 'display_data';\n",
              "        await google.colab.output.renderOutput(dataTable, element);\n",
              "        const docLink = document.createElement('div');\n",
              "        docLink.innerHTML = docLinkHtml;\n",
              "        element.appendChild(docLink);\n",
              "      }\n",
              "    </script>\n",
              "  </div>\n",
              "\n",
              "\n",
              "<div id=\"df-cad591c1-fb09-43f0-bc2c-3dcade2dc2f9\">\n",
              "  <button class=\"colab-df-quickchart\" onclick=\"quickchart('df-cad591c1-fb09-43f0-bc2c-3dcade2dc2f9')\"\n",
              "            title=\"Suggest charts.\"\n",
              "            style=\"display:none;\">\n",
              "\n",
              "<svg xmlns=\"http://www.w3.org/2000/svg\" height=\"24px\"viewBox=\"0 0 24 24\"\n",
              "     width=\"24px\">\n",
              "    <g>\n",
              "        <path d=\"M19 3H5c-1.1 0-2 .9-2 2v14c0 1.1.9 2 2 2h14c1.1 0 2-.9 2-2V5c0-1.1-.9-2-2-2zM9 17H7v-7h2v7zm4 0h-2V7h2v10zm4 0h-2v-4h2v4z\"/>\n",
              "    </g>\n",
              "</svg>\n",
              "  </button>\n",
              "\n",
              "<style>\n",
              "  .colab-df-quickchart {\n",
              "      --bg-color: #E8F0FE;\n",
              "      --fill-color: #1967D2;\n",
              "      --hover-bg-color: #E2EBFA;\n",
              "      --hover-fill-color: #174EA6;\n",
              "      --disabled-fill-color: #AAA;\n",
              "      --disabled-bg-color: #DDD;\n",
              "  }\n",
              "\n",
              "  [theme=dark] .colab-df-quickchart {\n",
              "      --bg-color: #3B4455;\n",
              "      --fill-color: #D2E3FC;\n",
              "      --hover-bg-color: #434B5C;\n",
              "      --hover-fill-color: #FFFFFF;\n",
              "      --disabled-bg-color: #3B4455;\n",
              "      --disabled-fill-color: #666;\n",
              "  }\n",
              "\n",
              "  .colab-df-quickchart {\n",
              "    background-color: var(--bg-color);\n",
              "    border: none;\n",
              "    border-radius: 50%;\n",
              "    cursor: pointer;\n",
              "    display: none;\n",
              "    fill: var(--fill-color);\n",
              "    height: 32px;\n",
              "    padding: 0;\n",
              "    width: 32px;\n",
              "  }\n",
              "\n",
              "  .colab-df-quickchart:hover {\n",
              "    background-color: var(--hover-bg-color);\n",
              "    box-shadow: 0 1px 2px rgba(60, 64, 67, 0.3), 0 1px 3px 1px rgba(60, 64, 67, 0.15);\n",
              "    fill: var(--button-hover-fill-color);\n",
              "  }\n",
              "\n",
              "  .colab-df-quickchart-complete:disabled,\n",
              "  .colab-df-quickchart-complete:disabled:hover {\n",
              "    background-color: var(--disabled-bg-color);\n",
              "    fill: var(--disabled-fill-color);\n",
              "    box-shadow: none;\n",
              "  }\n",
              "\n",
              "  .colab-df-spinner {\n",
              "    border: 2px solid var(--fill-color);\n",
              "    border-color: transparent;\n",
              "    border-bottom-color: var(--fill-color);\n",
              "    animation:\n",
              "      spin 1s steps(1) infinite;\n",
              "  }\n",
              "\n",
              "  @keyframes spin {\n",
              "    0% {\n",
              "      border-color: transparent;\n",
              "      border-bottom-color: var(--fill-color);\n",
              "      border-left-color: var(--fill-color);\n",
              "    }\n",
              "    20% {\n",
              "      border-color: transparent;\n",
              "      border-left-color: var(--fill-color);\n",
              "      border-top-color: var(--fill-color);\n",
              "    }\n",
              "    30% {\n",
              "      border-color: transparent;\n",
              "      border-left-color: var(--fill-color);\n",
              "      border-top-color: var(--fill-color);\n",
              "      border-right-color: var(--fill-color);\n",
              "    }\n",
              "    40% {\n",
              "      border-color: transparent;\n",
              "      border-right-color: var(--fill-color);\n",
              "      border-top-color: var(--fill-color);\n",
              "    }\n",
              "    60% {\n",
              "      border-color: transparent;\n",
              "      border-right-color: var(--fill-color);\n",
              "    }\n",
              "    80% {\n",
              "      border-color: transparent;\n",
              "      border-right-color: var(--fill-color);\n",
              "      border-bottom-color: var(--fill-color);\n",
              "    }\n",
              "    90% {\n",
              "      border-color: transparent;\n",
              "      border-bottom-color: var(--fill-color);\n",
              "    }\n",
              "  }\n",
              "</style>\n",
              "\n",
              "  <script>\n",
              "    async function quickchart(key) {\n",
              "      const quickchartButtonEl =\n",
              "        document.querySelector('#' + key + ' button');\n",
              "      quickchartButtonEl.disabled = true;  // To prevent multiple clicks.\n",
              "      quickchartButtonEl.classList.add('colab-df-spinner');\n",
              "      try {\n",
              "        const charts = await google.colab.kernel.invokeFunction(\n",
              "            'suggestCharts', [key], {});\n",
              "      } catch (error) {\n",
              "        console.error('Error during call to suggestCharts:', error);\n",
              "      }\n",
              "      quickchartButtonEl.classList.remove('colab-df-spinner');\n",
              "      quickchartButtonEl.classList.add('colab-df-quickchart-complete');\n",
              "    }\n",
              "    (() => {\n",
              "      let quickchartButtonEl =\n",
              "        document.querySelector('#df-cad591c1-fb09-43f0-bc2c-3dcade2dc2f9 button');\n",
              "      quickchartButtonEl.style.display =\n",
              "        google.colab.kernel.accessAllowed ? 'block' : 'none';\n",
              "    })();\n",
              "  </script>\n",
              "</div>\n",
              "    </div>\n",
              "  </div>\n"
            ]
          },
          "metadata": {},
          "execution_count": 121
        }
      ],
      "source": [
        "result_df"
      ]
    },
    {
      "cell_type": "code",
      "execution_count": 122,
      "metadata": {
        "id": "YHMqN35pKaUD"
      },
      "outputs": [],
      "source": [
        "result_df.to_excel('/content/drive/MyDrive/bleu.xlsx')"
      ]
    },
    {
      "cell_type": "code",
      "execution_count": 123,
      "metadata": {
        "colab": {
          "base_uri": "https://localhost:8080/",
          "height": 527
        },
        "id": "KZ9C3EPx3QqX",
        "outputId": "68e3b02f-71bc-4440-9e3b-cd5a248bce5b"
      },
      "outputs": [
        {
          "output_type": "stream",
          "name": "stderr",
          "text": [
            "<ipython-input-123-183447fd49d5>:4: UserWarning: color is redundantly defined by the 'color' keyword argument and the fmt string \"o-r\" (-> color='r'). The keyword argument will take precedence.\n",
            "  plt.plot(range(1, 11), result_df.iloc[2, :], 'o-r', label='yandex', color='blue')\n"
          ]
        },
        {
          "output_type": "display_data",
          "data": {
            "text/plain": [
              "<Figure size 640x480 with 1 Axes>"
            ],
            "image/png": "[encoded data removed]"
          },
          "metadata": {}
        }
      ],
      "source": [
        "import matplotlib.pyplot as plt\n",
        "plt.title('tat2rus BLEU without smooth')\n",
        "plt.plot(range(1, 11), result_df.iloc[0, :], 'o-r', label='tatsoft')\n",
        "plt.plot(range(1, 11), result_df.iloc[2, :], 'o-r', label='yandex', color='blue')\n",
        "plt.xlabel('N-gramm, N', fontsize=10)\n",
        "plt.ylabel('BLEU, %', fontsize=10)\n",
        "plt.legend()\n",
        "plt.show()"
      ]
    },
    {
      "cell_type": "code",
      "execution_count": 124,
      "metadata": {
        "colab": {
          "base_uri": "https://localhost:8080/",
          "height": 527
        },
        "id": "RbNoZYvzGu6B",
        "outputId": "9d01aaaa-df1f-4d67-d01b-a299005edf18"
      },
      "outputs": [
        {
          "output_type": "stream",
          "name": "stderr",
          "text": [
            "<ipython-input-124-22f83474f143>:3: UserWarning: color is redundantly defined by the 'color' keyword argument and the fmt string \"o-r\" (-> color='r'). The keyword argument will take precedence.\n",
            "  plt.plot(range(1, 11), result_df.iloc[6, :], 'o-r', label='yandex', color='blue')\n"
          ]
        },
        {
          "output_type": "display_data",
          "data": {
            "text/plain": [
              "<Figure size 640x480 with 1 Axes>"
            ],
            "image/png": "[encoded data removed]"
          },
          "metadata": {}
        }
      ],
      "source": [
        "plt.title('rus2tat BLEU without smooth')\n",
        "plt.plot(range(1, 11), result_df.iloc[4, :], 'o-r', label='tatsoft')\n",
        "plt.plot(range(1, 11), result_df.iloc[6, :], 'o-r', label='yandex', color='blue')\n",
        "plt.xlabel('N-gramm, N', fontsize=10)\n",
        "plt.ylabel('BLEU, %', fontsize=10)\n",
        "plt.legend()\n",
        "plt.show()"
      ]
    },
    {
      "cell_type": "code",
      "execution_count": 125,
      "metadata": {
        "colab": {
          "base_uri": "https://localhost:8080/",
          "height": 527
        },
        "id": "KElpHEy09xvM",
        "outputId": "1089a732-44de-48ef-8795-250d057b47da"
      },
      "outputs": [
        {
          "output_type": "stream",
          "name": "stderr",
          "text": [
            "<ipython-input-125-2709f6ec6a19>:3: UserWarning: color is redundantly defined by the 'color' keyword argument and the fmt string \"o-r\" (-> color='r'). The keyword argument will take precedence.\n",
            "  plt.plot(range(1, 11), np.array(result_df.iloc[3, :]) - np.array(result_df.iloc[2, :]), 'o-r', label='yandex', color='blue')\n"
          ]
        },
        {
          "output_type": "display_data",
          "data": {
            "text/plain": [
              "<Figure size 640x480 with 1 Axes>"
            ],
            "image/png": "[encoded data removed]"
          },
          "metadata": {}
        }
      ],
      "source": [
        "import numpy as np\n",
        "plt.plot(range(1, 11), np.array(result_df.iloc[1, :]) - np.array(result_df.iloc[0, :]), 'o-r', label='tatsoft')\n",
        "plt.plot(range(1, 11), np.array(result_df.iloc[3, :]) - np.array(result_df.iloc[2, :]), 'o-r', label='yandex', color='blue')\n",
        "plt.ylim(0, 0.008)\n",
        "plt.xlabel('N-gramm, N', fontsize=10)\n",
        "plt.ylabel('difference BLEU, %', fontsize=10)\n",
        "plt.legend()\n",
        "plt.title('tat2rus smooth/no smooth BLEU difference')\n",
        "plt.show()"
      ]
    },
    {
      "cell_type": "code",
      "execution_count": 102,
      "metadata": {
        "colab": {
          "base_uri": "https://localhost:8080/",
          "height": 527
        },
        "id": "o5C3Caa3JiZi",
        "outputId": "c2abfa27-98df-4b11-bd3e-0ea56b80eebf"
      },
      "outputs": [
        {
          "output_type": "stream",
          "name": "stderr",
          "text": [
            "<ipython-input-102-073c37259686>:2: UserWarning: color is redundantly defined by the 'color' keyword argument and the fmt string \"o-r\" (-> color='r'). The keyword argument will take precedence.\n",
            "  plt.plot(range(1, 11), np.array(result_df.iloc[7, :]) - np.array(result_df.iloc[6, :]), 'o-r', label='yandex', color='blue')\n"
          ]
        },
        {
          "output_type": "display_data",
          "data": {
            "text/plain": [
              "<Figure size 640x480 with 1 Axes>"
            ],
            "image/png": "[encoded data removed]"
          },
          "metadata": {}
        }
      ],
      "source": [
        "plt.plot(range(1, 11), np.array(result_df.iloc[5, :]) - np.array(result_df.iloc[4, :]), 'o-r', label='tatsoft')\n",
        "plt.plot(range(1, 11), np.array(result_df.iloc[7, :]) - np.array(result_df.iloc[6, :]), 'o-r', label='yandex', color='blue')\n",
        "plt.ylim(0, 0.008)\n",
        "plt.xlabel('N-gramm, N', fontsize=10)\n",
        "plt.ylabel('difference BLEU, %', fontsize=10)\n",
        "plt.legend()\n",
        "plt.title('rus2tat smooth/no smooth BLEU difference')\n",
        "plt.show()"
      ]
    },
    {
      "cell_type": "code",
      "execution_count": null,
      "metadata": {
        "colab": {
          "base_uri": "https://localhost:8080/"
        },
        "id": "s8z7ISQujMKG",
        "outputId": "fd185bd1-bd21-4f68-a37c-e8fbe3ad3feb"
      },
      "outputs": [
        {
          "name": "stdout",
          "output_type": "stream",
          "text": [
            "{'bleu': 0.2571451573221921, 'precisions': [0.45149182110942865, 0.29717033888826755, 0.21083203988523588, 0.15456866000842606], 'brevity_penalty': 1.0, 'length_ratio': 1.4340153530904975, 'translation_length': 46888, 'reference_length': 32697}\n"
          ]
        }
      ],
      "source": [
        "results = bleu.compute(predictions=tatsoft_list_tat, references=tat_list, smooth=True)\n",
        "print(results)"
      ]
    },
    {
      "cell_type": "code",
      "execution_count": null,
      "metadata": {
        "colab": {
          "base_uri": "https://localhost:8080/"
        },
        "id": "-8Bgwqr5UIeh",
        "outputId": "f52654f0-254c-4237-b533-bc49d08d422b"
      },
      "outputs": [
        {
          "name": "stdout",
          "output_type": "stream",
          "text": [
            "{'bleu': 0.32365881813559916, 'precisions': [0.5323671279808863, 0.36406524109809874, 0.27168179204480114, 0.20840051809362692], 'brevity_penalty': 1.0, 'length_ratio': 1.3173679365739228, 'translation_length': 44365, 'reference_length': 33677}\n"
          ]
        }
      ],
      "source": [
        "results = bleu.compute(predictions=tatsoft_list, references=rus_list, smooth=True)\n",
        "print(results)"
      ]
    },
    {
      "cell_type": "code",
      "execution_count": null,
      "metadata": {
        "colab": {
          "base_uri": "https://localhost:8080/"
        },
        "id": "I_WpFmQTUIbI",
        "outputId": "f57e5a01-4353-4435-93df-21f36c2419a3"
      },
      "outputs": [
        {
          "name": "stdout",
          "output_type": "stream",
          "text": [
            "{'bleu': 0.28239930475763436, 'precisions': [0.5323565873999775, 0.36405016476612695, 0.27166358317915895, 0.2083795929156754, 0.16370714765852565], 'brevity_penalty': 1.0, 'length_ratio': 1.3173679365739228, 'translation_length': 44365, 'reference_length': 33677}\n"
          ]
        }
      ],
      "source": [
        "results = bleu.compute(predictions=tatsoft_list, references=rus_list, max_order=5)\n",
        "print(results)"
      ]
    },
    {
      "cell_type": "code",
      "execution_count": null,
      "metadata": {
        "colab": {
          "base_uri": "https://localhost:8080/"
        },
        "id": "bb1qa9KiUIY0",
        "outputId": "d225d3a0-4570-4251-8681-ae1c39f7c0b9"
      },
      "outputs": [
        {
          "name": "stdout",
          "output_type": "stream",
          "text": [
            "{'bleu': 0.3747990053397568, 'precisions': [0.5323565873999775, 0.36405016476612695, 0.27166358317915895], 'brevity_penalty': 1.0, 'length_ratio': 1.3173679365739228, 'translation_length': 44365, 'reference_length': 33677}\n"
          ]
        }
      ],
      "source": [
        "results = bleu.compute(predictions=tatsoft_list, references=rus_list, max_order=3)\n",
        "print(results)"
      ]
    },
    {
      "cell_type": "code",
      "execution_count": null,
      "metadata": {
        "colab": {
          "base_uri": "https://localhost:8080/"
        },
        "id": "Dp6RFy7hUIWh",
        "outputId": "0b949d9e-228e-4c47-cfa7-91749a769405"
      },
      "outputs": [
        {
          "name": "stdout",
          "output_type": "stream",
          "text": [
            "{'bleu': 0.3748150266653109, 'precisions': [0.5323671279808863, 0.36406524109809874, 0.27168179204480114], 'brevity_penalty': 1.0, 'length_ratio': 1.3173679365739228, 'translation_length': 44365, 'reference_length': 33677}\n"
          ]
        }
      ],
      "source": [
        "results = bleu.compute(predictions=tatsoft_list, references=rus_list, smooth=True, max_order=3)\n",
        "print(results)"
      ]
    },
    {
      "cell_type": "code",
      "execution_count": null,
      "metadata": {
        "id": "OUTjUykA6wkd"
      },
      "outputs": [],
      "source": [
        "import nltk\n",
        "\n",
        "\n",
        "for i in range(2184):\n",
        "  pass\n",
        "\n",
        "# BLEUscore = nltk.translate.bleu_score.sentence_bleu([reference], hypothesis)\n",
        "# print(BLEUscore)"
      ]
    },
    {
      "cell_type": "code",
      "execution_count": null,
      "metadata": {
        "colab": {
          "base_uri": "https://localhost:8080/"
        },
        "id": "yOf5BQS2CWAV",
        "outputId": "923638cd-e7cb-47cf-e95a-4ff08cd6693a"
      },
      "outputs": [
        {
          "name": "stdout",
          "output_type": "stream",
          "text": [
            "0.4548019047027907\n"
          ]
        }
      ],
      "source": [
        "\n",
        "\n",
        "hypothesis = ['It', 'is', 'a', 'cat', 'at', 'room']\n",
        "reference = ['It', 'is', 'a', 'cat', 'inside', 'the', 'room']\n",
        "#there may be several references\n",
        "BLEUscore = nltk.translate.bleu_score.sentence_bleu([reference], hypothesis)\n",
        "print(BLEUscore)"
      ]
    },
    {
      "cell_type": "code",
      "execution_count": null,
      "metadata": {
        "id": "m941mXOsPoTC"
      },
      "outputs": [],
      "source": []
    }
  ],
  "metadata": {
    "colab": {
      "provenance": []
    },
    "kernelspec": {
      "display_name": "Python 3",
      "name": "python3"
    },
    "language_info": {
      "name": "python"
    },
    "widgets": {
      "application/vnd.jupyter.widget-state+json": {
        "18a44eec386944609566eff79f8e0b2e": {
          "model_module": "@jupyter-widgets/controls",
          "model_name": "HBoxModel",
          "model_module_version": "1.5.0",
          "state": {
            "_dom_classes": [],
            "_model_module": "@jupyter-widgets/controls",
            "_model_module_version": "1.5.0",
            "_model_name": "HBoxModel",
            "_view_count": null,
            "_view_module": "@jupyter-widgets/controls",
            "_view_module_version": "1.5.0",
            "_view_name": "HBoxView",
            "box_style": "",
            "children": [
              "IPY_MODEL_3d65f8da2013462e9036cd642f2f5910",
              "IPY_MODEL_2bd752644d0e4b99913df590f6e8cfdc",
              "IPY_MODEL_22c5fc8005cf433f9b17cc3f76a408b5"
            ],
            "layout": "IPY_MODEL_db70949ae0cf46cb8bc3bf1095999d54"
          }
        },
        "3d65f8da2013462e9036cd642f2f5910": {
          "model_module": "@jupyter-widgets/controls",
          "model_name": "HTMLModel",
          "model_module_version": "1.5.0",
          "state": {
            "_dom_classes": [],
            "_model_module": "@jupyter-widgets/controls",
            "_model_module_version": "1.5.0",
            "_model_name": "HTMLModel",
            "_view_count": null,
            "_view_module": "@jupyter-widgets/controls",
            "_view_module_version": "1.5.0",
            "_view_name": "HTMLView",
            "description": "",
            "description_tooltip": null,
            "layout": "IPY_MODEL_599f02cbf9c842babcab5a6af4c4658c",
            "placeholder": "​",
            "style": "IPY_MODEL_260e5cdc8b8a4dd38eced141e0ef8c29",
            "value": "Downloading builder script: 100%"
          }
        },
        "2bd752644d0e4b99913df590f6e8cfdc": {
          "model_module": "@jupyter-widgets/controls",
          "model_name": "FloatProgressModel",
          "model_module_version": "1.5.0",
          "state": {
            "_dom_classes": [],
            "_model_module": "@jupyter-widgets/controls",
            "_model_module_version": "1.5.0",
            "_model_name": "FloatProgressModel",
            "_view_count": null,
            "_view_module": "@jupyter-widgets/controls",
            "_view_module_version": "1.5.0",
            "_view_name": "ProgressView",
            "bar_style": "success",
            "description": "",
            "description_tooltip": null,
            "layout": "IPY_MODEL_e8783934adc846faab8d7b5bd2182250",
            "max": 5937,
            "min": 0,
            "orientation": "horizontal",
            "style": "IPY_MODEL_8e081c27507f4d4abefa7984b4787025",
            "value": 5937
          }
        },
        "22c5fc8005cf433f9b17cc3f76a408b5": {
          "model_module": "@jupyter-widgets/controls",
          "model_name": "HTMLModel",
          "model_module_version": "1.5.0",
          "state": {
            "_dom_classes": [],
            "_model_module": "@jupyter-widgets/controls",
            "_model_module_version": "1.5.0",
            "_model_name": "HTMLModel",
            "_view_count": null,
            "_view_module": "@jupyter-widgets/controls",
            "_view_module_version": "1.5.0",
            "_view_name": "HTMLView",
            "description": "",
            "description_tooltip": null,
            "layout": "IPY_MODEL_b86c7bd2ecb74704b8e4bae6f88eedf6",
            "placeholder": "​",
            "style": "IPY_MODEL_c66b1acda066415f84a51ffcb2bb0672",
            "value": " 5.94k/5.94k [00:00&lt;00:00, 275kB/s]"
          }
        },
        "db70949ae0cf46cb8bc3bf1095999d54": {
          "model_module": "@jupyter-widgets/base",
          "model_name": "LayoutModel",
          "model_module_version": "1.2.0",
          "state": {
            "_model_module": "@jupyter-widgets/base",
            "_model_module_version": "1.2.0",
            "_model_name": "LayoutModel",
            "_view_count": null,
            "_view_module": "@jupyter-widgets/base",
            "_view_module_version": "1.2.0",
            "_view_name": "LayoutView",
            "align_content": null,
            "align_items": null,
            "align_self": null,
            "border": null,
            "bottom": null,
            "display": null,
            "flex": null,
            "flex_flow": null,
            "grid_area": null,
            "grid_auto_columns": null,
            "grid_auto_flow": null,
            "grid_auto_rows": null,
            "grid_column": null,
            "grid_gap": null,
            "grid_row": null,
            "grid_template_areas": null,
            "grid_template_columns": null,
            "grid_template_rows": null,
            "height": null,
            "justify_content": null,
            "justify_items": null,
            "left": null,
            "margin": null,
            "max_height": null,
            "max_width": null,
            "min_height": null,
            "min_width": null,
            "object_fit": null,
            "object_position": null,
            "order": null,
            "overflow": null,
            "overflow_x": null,
            "overflow_y": null,
            "padding": null,
            "right": null,
            "top": null,
            "visibility": null,
            "width": null
          }
        },
        "599f02cbf9c842babcab5a6af4c4658c": {
          "model_module": "@jupyter-widgets/base",
          "model_name": "LayoutModel",
          "model_module_version": "1.2.0",
          "state": {
            "_model_module": "@jupyter-widgets/base",
            "_model_module_version": "1.2.0",
            "_model_name": "LayoutModel",
            "_view_count": null,
            "_view_module": "@jupyter-widgets/base",
            "_view_module_version": "1.2.0",
            "_view_name": "LayoutView",
            "align_content": null,
            "align_items": null,
            "align_self": null,
            "border": null,
            "bottom": null,
            "display": null,
            "flex": null,
            "flex_flow": null,
            "grid_area": null,
            "grid_auto_columns": null,
            "grid_auto_flow": null,
            "grid_auto_rows": null,
            "grid_column": null,
            "grid_gap": null,
            "grid_row": null,
            "grid_template_areas": null,
            "grid_template_columns": null,
            "grid_template_rows": null,
            "height": null,
            "justify_content": null,
            "justify_items": null,
            "left": null,
            "margin": null,
            "max_height": null,
            "max_width": null,
            "min_height": null,
            "min_width": null,
            "object_fit": null,
            "object_position": null,
            "order": null,
            "overflow": null,
            "overflow_x": null,
            "overflow_y": null,
            "padding": null,
            "right": null,
            "top": null,
            "visibility": null,
            "width": null
          }
        },
        "260e5cdc8b8a4dd38eced141e0ef8c29": {
          "model_module": "@jupyter-widgets/controls",
          "model_name": "DescriptionStyleModel",
          "model_module_version": "1.5.0",
          "state": {
            "_model_module": "@jupyter-widgets/controls",
            "_model_module_version": "1.5.0",
            "_model_name": "DescriptionStyleModel",
            "_view_count": null,
            "_view_module": "@jupyter-widgets/base",
            "_view_module_version": "1.2.0",
            "_view_name": "StyleView",
            "description_width": ""
          }
        },
        "e8783934adc846faab8d7b5bd2182250": {
          "model_module": "@jupyter-widgets/base",
          "model_name": "LayoutModel",
          "model_module_version": "1.2.0",
          "state": {
            "_model_module": "@jupyter-widgets/base",
            "_model_module_version": "1.2.0",
            "_model_name": "LayoutModel",
            "_view_count": null,
            "_view_module": "@jupyter-widgets/base",
            "_view_module_version": "1.2.0",
            "_view_name": "LayoutView",
            "align_content": null,
            "align_items": null,
            "align_self": null,
            "border": null,
            "bottom": null,
            "display": null,
            "flex": null,
            "flex_flow": null,
            "grid_area": null,
            "grid_auto_columns": null,
            "grid_auto_flow": null,
            "grid_auto_rows": null,
            "grid_column": null,
            "grid_gap": null,
            "grid_row": null,
            "grid_template_areas": null,
            "grid_template_columns": null,
            "grid_template_rows": null,
            "height": null,
            "justify_content": null,
            "justify_items": null,
            "left": null,
            "margin": null,
            "max_height": null,
            "max_width": null,
            "min_height": null,
            "min_width": null,
            "object_fit": null,
            "object_position": null,
            "order": null,
            "overflow": null,
            "overflow_x": null,
            "overflow_y": null,
            "padding": null,
            "right": null,
            "top": null,
            "visibility": null,
            "width": null
          }
        },
        "8e081c27507f4d4abefa7984b4787025": {
          "model_module": "@jupyter-widgets/controls",
          "model_name": "ProgressStyleModel",
          "model_module_version": "1.5.0",
          "state": {
            "_model_module": "@jupyter-widgets/controls",
            "_model_module_version": "1.5.0",
            "_model_name": "ProgressStyleModel",
            "_view_count": null,
            "_view_module": "@jupyter-widgets/base",
            "_view_module_version": "1.2.0",
            "_view_name": "StyleView",
            "bar_color": null,
            "description_width": ""
          }
        },
        "b86c7bd2ecb74704b8e4bae6f88eedf6": {
          "model_module": "@jupyter-widgets/base",
          "model_name": "LayoutModel",
          "model_module_version": "1.2.0",
          "state": {
            "_model_module": "@jupyter-widgets/base",
            "_model_module_version": "1.2.0",
            "_model_name": "LayoutModel",
            "_view_count": null,
            "_view_module": "@jupyter-widgets/base",
            "_view_module_version": "1.2.0",
            "_view_name": "LayoutView",
            "align_content": null,
            "align_items": null,
            "align_self": null,
            "border": null,
            "bottom": null,
            "display": null,
            "flex": null,
            "flex_flow": null,
            "grid_area": null,
            "grid_auto_columns": null,
            "grid_auto_flow": null,
            "grid_auto_rows": null,
            "grid_column": null,
            "grid_gap": null,
            "grid_row": null,
            "grid_template_areas": null,
            "grid_template_columns": null,
            "grid_template_rows": null,
            "height": null,
            "justify_content": null,
            "justify_items": null,
            "left": null,
            "margin": null,
            "max_height": null,
            "max_width": null,
            "min_height": null,
            "min_width": null,
            "object_fit": null,
            "object_position": null,
            "order": null,
            "overflow": null,
            "overflow_x": null,
            "overflow_y": null,
            "padding": null,
            "right": null,
            "top": null,
            "visibility": null,
            "width": null
          }
        },
        "c66b1acda066415f84a51ffcb2bb0672": {
          "model_module": "@jupyter-widgets/controls",
          "model_name": "DescriptionStyleModel",
          "model_module_version": "1.5.0",
          "state": {
            "_model_module": "@jupyter-widgets/controls",
            "_model_module_version": "1.5.0",
            "_model_name": "DescriptionStyleModel",
            "_view_count": null,
            "_view_module": "@jupyter-widgets/base",
            "_view_module_version": "1.2.0",
            "_view_name": "StyleView",
            "description_width": ""
          }
        },
        "08dd691d96034d0eb290e546bda622a9": {
          "model_module": "@jupyter-widgets/controls",
          "model_name": "HBoxModel",
          "model_module_version": "1.5.0",
          "state": {
            "_dom_classes": [],
            "_model_module": "@jupyter-widgets/controls",
            "_model_module_version": "1.5.0",
            "_model_name": "HBoxModel",
            "_view_count": null,
            "_view_module": "@jupyter-widgets/controls",
            "_view_module_version": "1.5.0",
            "_view_name": "HBoxView",
            "box_style": "",
            "children": [
              "IPY_MODEL_9cc5bf7683b1404595042d0881e28503",
              "IPY_MODEL_875b79b88c0a4f28952701c0ac623ea9",
              "IPY_MODEL_6b239d06c690423fbe6bc58c7cc3dab1"
            ],
            "layout": "IPY_MODEL_b720dc810163421fa784f2c2f455f6cd"
          }
        },
        "9cc5bf7683b1404595042d0881e28503": {
          "model_module": "@jupyter-widgets/controls",
          "model_name": "HTMLModel",
          "model_module_version": "1.5.0",
          "state": {
            "_dom_classes": [],
            "_model_module": "@jupyter-widgets/controls",
            "_model_module_version": "1.5.0",
            "_model_name": "HTMLModel",
            "_view_count": null,
            "_view_module": "@jupyter-widgets/controls",
            "_view_module_version": "1.5.0",
            "_view_name": "HTMLView",
            "description": "",
            "description_tooltip": null,
            "layout": "IPY_MODEL_226825a51c714e1d9107f24d1e55e8ae",
            "placeholder": "​",
            "style": "IPY_MODEL_6febbec46b1845c8a3518d15c81c289c",
            "value": "Downloading extra modules: "
          }
        },
        "875b79b88c0a4f28952701c0ac623ea9": {
          "model_module": "@jupyter-widgets/controls",
          "model_name": "FloatProgressModel",
          "model_module_version": "1.5.0",
          "state": {
            "_dom_classes": [],
            "_model_module": "@jupyter-widgets/controls",
            "_model_module_version": "1.5.0",
            "_model_name": "FloatProgressModel",
            "_view_count": null,
            "_view_module": "@jupyter-widgets/controls",
            "_view_module_version": "1.5.0",
            "_view_name": "ProgressView",
            "bar_style": "success",
            "description": "",
            "description_tooltip": null,
            "layout": "IPY_MODEL_9a3ee134793e4eb28a3542bf970b605d",
            "max": 1554,
            "min": 0,
            "orientation": "horizontal",
            "style": "IPY_MODEL_5cbca66280cc429fb4e5e9d445692ae1",
            "value": 1554
          }
        },
        "6b239d06c690423fbe6bc58c7cc3dab1": {
          "model_module": "@jupyter-widgets/controls",
          "model_name": "HTMLModel",
          "model_module_version": "1.5.0",
          "state": {
            "_dom_classes": [],
            "_model_module": "@jupyter-widgets/controls",
            "_model_module_version": "1.5.0",
            "_model_name": "HTMLModel",
            "_view_count": null,
            "_view_module": "@jupyter-widgets/controls",
            "_view_module_version": "1.5.0",
            "_view_name": "HTMLView",
            "description": "",
            "description_tooltip": null,
            "layout": "IPY_MODEL_85272fb153ba4d53a6aa8977714a10d5",
            "placeholder": "​",
            "style": "IPY_MODEL_ef069c4550be48f6b358229adddd4b97",
            "value": " 4.07k/? [00:00&lt;00:00, 183kB/s]"
          }
        },
        "b720dc810163421fa784f2c2f455f6cd": {
          "model_module": "@jupyter-widgets/base",
          "model_name": "LayoutModel",
          "model_module_version": "1.2.0",
          "state": {
            "_model_module": "@jupyter-widgets/base",
            "_model_module_version": "1.2.0",
            "_model_name": "LayoutModel",
            "_view_count": null,
            "_view_module": "@jupyter-widgets/base",
            "_view_module_version": "1.2.0",
            "_view_name": "LayoutView",
            "align_content": null,
            "align_items": null,
            "align_self": null,
            "border": null,
            "bottom": null,
            "display": null,
            "flex": null,
            "flex_flow": null,
            "grid_area": null,
            "grid_auto_columns": null,
            "grid_auto_flow": null,
            "grid_auto_rows": null,
            "grid_column": null,
            "grid_gap": null,
            "grid_row": null,
            "grid_template_areas": null,
            "grid_template_columns": null,
            "grid_template_rows": null,
            "height": null,
            "justify_content": null,
            "justify_items": null,
            "left": null,
            "margin": null,
            "max_height": null,
            "max_width": null,
            "min_height": null,
            "min_width": null,
            "object_fit": null,
            "object_position": null,
            "order": null,
            "overflow": null,
            "overflow_x": null,
            "overflow_y": null,
            "padding": null,
            "right": null,
            "top": null,
            "visibility": null,
            "width": null
          }
        },
        "226825a51c714e1d9107f24d1e55e8ae": {
          "model_module": "@jupyter-widgets/base",
          "model_name": "LayoutModel",
          "model_module_version": "1.2.0",
          "state": {
            "_model_module": "@jupyter-widgets/base",
            "_model_module_version": "1.2.0",
            "_model_name": "LayoutModel",
            "_view_count": null,
            "_view_module": "@jupyter-widgets/base",
            "_view_module_version": "1.2.0",
            "_view_name": "LayoutView",
            "align_content": null,
            "align_items": null,
            "align_self": null,
            "border": null,
            "bottom": null,
            "display": null,
            "flex": null,
            "flex_flow": null,
            "grid_area": null,
            "grid_auto_columns": null,
            "grid_auto_flow": null,
            "grid_auto_rows": null,
            "grid_column": null,
            "grid_gap": null,
            "grid_row": null,
            "grid_template_areas": null,
            "grid_template_columns": null,
            "grid_template_rows": null,
            "height": null,
            "justify_content": null,
            "justify_items": null,
            "left": null,
            "margin": null,
            "max_height": null,
            "max_width": null,
            "min_height": null,
            "min_width": null,
            "object_fit": null,
            "object_position": null,
            "order": null,
            "overflow": null,
            "overflow_x": null,
            "overflow_y": null,
            "padding": null,
            "right": null,
            "top": null,
            "visibility": null,
            "width": null
          }
        },
        "6febbec46b1845c8a3518d15c81c289c": {
          "model_module": "@jupyter-widgets/controls",
          "model_name": "DescriptionStyleModel",
          "model_module_version": "1.5.0",
          "state": {
            "_model_module": "@jupyter-widgets/controls",
            "_model_module_version": "1.5.0",
            "_model_name": "DescriptionStyleModel",
            "_view_count": null,
            "_view_module": "@jupyter-widgets/base",
            "_view_module_version": "1.2.0",
            "_view_name": "StyleView",
            "description_width": ""
          }
        },
        "9a3ee134793e4eb28a3542bf970b605d": {
          "model_module": "@jupyter-widgets/base",
          "model_name": "LayoutModel",
          "model_module_version": "1.2.0",
          "state": {
            "_model_module": "@jupyter-widgets/base",
            "_model_module_version": "1.2.0",
            "_model_name": "LayoutModel",
            "_view_count": null,
            "_view_module": "@jupyter-widgets/base",
            "_view_module_version": "1.2.0",
            "_view_name": "LayoutView",
            "align_content": null,
            "align_items": null,
            "align_self": null,
            "border": null,
            "bottom": null,
            "display": null,
            "flex": null,
            "flex_flow": null,
            "grid_area": null,
            "grid_auto_columns": null,
            "grid_auto_flow": null,
            "grid_auto_rows": null,
            "grid_column": null,
            "grid_gap": null,
            "grid_row": null,
            "grid_template_areas": null,
            "grid_template_columns": null,
            "grid_template_rows": null,
            "height": null,
            "justify_content": null,
            "justify_items": null,
            "left": null,
            "margin": null,
            "max_height": null,
            "max_width": null,
            "min_height": null,
            "min_width": null,
            "object_fit": null,
            "object_position": null,
            "order": null,
            "overflow": null,
            "overflow_x": null,
            "overflow_y": null,
            "padding": null,
            "right": null,
            "top": null,
            "visibility": null,
            "width": null
          }
        },
        "5cbca66280cc429fb4e5e9d445692ae1": {
          "model_module": "@jupyter-widgets/controls",
          "model_name": "ProgressStyleModel",
          "model_module_version": "1.5.0",
          "state": {
            "_model_module": "@jupyter-widgets/controls",
            "_model_module_version": "1.5.0",
            "_model_name": "ProgressStyleModel",
            "_view_count": null,
            "_view_module": "@jupyter-widgets/base",
            "_view_module_version": "1.2.0",
            "_view_name": "StyleView",
            "bar_color": null,
            "description_width": ""
          }
        },
        "85272fb153ba4d53a6aa8977714a10d5": {
          "model_module": "@jupyter-widgets/base",
          "model_name": "LayoutModel",
          "model_module_version": "1.2.0",
          "state": {
            "_model_module": "@jupyter-widgets/base",
            "_model_module_version": "1.2.0",
            "_model_name": "LayoutModel",
            "_view_count": null,
            "_view_module": "@jupyter-widgets/base",
            "_view_module_version": "1.2.0",
            "_view_name": "LayoutView",
            "align_content": null,
            "align_items": null,
            "align_self": null,
            "border": null,
            "bottom": null,
            "display": null,
            "flex": null,
            "flex_flow": null,
            "grid_area": null,
            "grid_auto_columns": null,
            "grid_auto_flow": null,
            "grid_auto_rows": null,
            "grid_column": null,
            "grid_gap": null,
            "grid_row": null,
            "grid_template_areas": null,
            "grid_template_columns": null,
            "grid_template_rows": null,
            "height": null,
            "justify_content": null,
            "justify_items": null,
            "left": null,
            "margin": null,
            "max_height": null,
            "max_width": null,
            "min_height": null,
            "min_width": null,
            "object_fit": null,
            "object_position": null,
            "order": null,
            "overflow": null,
            "overflow_x": null,
            "overflow_y": null,
            "padding": null,
            "right": null,
            "top": null,
            "visibility": null,
            "width": null
          }
        },
        "ef069c4550be48f6b358229adddd4b97": {
          "model_module": "@jupyter-widgets/controls",
          "model_name": "DescriptionStyleModel",
          "model_module_version": "1.5.0",
          "state": {
            "_model_module": "@jupyter-widgets/controls",
            "_model_module_version": "1.5.0",
            "_model_name": "DescriptionStyleModel",
            "_view_count": null,
            "_view_module": "@jupyter-widgets/base",
            "_view_module_version": "1.2.0",
            "_view_name": "StyleView",
            "description_width": ""
          }
        },
        "d03c18d536234fd2917d28c073297def": {
          "model_module": "@jupyter-widgets/controls",
          "model_name": "HBoxModel",
          "model_module_version": "1.5.0",
          "state": {
            "_dom_classes": [],
            "_model_module": "@jupyter-widgets/controls",
            "_model_module_version": "1.5.0",
            "_model_name": "HBoxModel",
            "_view_count": null,
            "_view_module": "@jupyter-widgets/controls",
            "_view_module_version": "1.5.0",
            "_view_name": "HBoxView",
            "box_style": "",
            "children": [
              "IPY_MODEL_b162b1c02807417382c69372cc0b6169",
              "IPY_MODEL_41cc9b4bbbae453692113b78723e39bf",
              "IPY_MODEL_ba4ae9a0e3344a9cae92daba23d1bd6e"
            ],
            "layout": "IPY_MODEL_22cbc076944e4abb90f6468ca3df9c34"
          }
        },
        "b162b1c02807417382c69372cc0b6169": {
          "model_module": "@jupyter-widgets/controls",
          "model_name": "HTMLModel",
          "model_module_version": "1.5.0",
          "state": {
            "_dom_classes": [],
            "_model_module": "@jupyter-widgets/controls",
            "_model_module_version": "1.5.0",
            "_model_name": "HTMLModel",
            "_view_count": null,
            "_view_module": "@jupyter-widgets/controls",
            "_view_module_version": "1.5.0",
            "_view_name": "HTMLView",
            "description": "",
            "description_tooltip": null,
            "layout": "IPY_MODEL_e1d3dd7692144299957d5bd0352f8128",
            "placeholder": "​",
            "style": "IPY_MODEL_d7d1f25e62974978884602bd4514524b",
            "value": "Downloading extra modules: 100%"
          }
        },
        "41cc9b4bbbae453692113b78723e39bf": {
          "model_module": "@jupyter-widgets/controls",
          "model_name": "FloatProgressModel",
          "model_module_version": "1.5.0",
          "state": {
            "_dom_classes": [],
            "_model_module": "@jupyter-widgets/controls",
            "_model_module_version": "1.5.0",
            "_model_name": "FloatProgressModel",
            "_view_count": null,
            "_view_module": "@jupyter-widgets/controls",
            "_view_module_version": "1.5.0",
            "_view_name": "ProgressView",
            "bar_style": "success",
            "description": "",
            "description_tooltip": null,
            "layout": "IPY_MODEL_11261a9d48904a95a8c92c76ded981fc",
            "max": 3344,
            "min": 0,
            "orientation": "horizontal",
            "style": "IPY_MODEL_f5f5fc4296974939898e6b6631b9024e",
            "value": 3344
          }
        },
        "ba4ae9a0e3344a9cae92daba23d1bd6e": {
          "model_module": "@jupyter-widgets/controls",
          "model_name": "HTMLModel",
          "model_module_version": "1.5.0",
          "state": {
            "_dom_classes": [],
            "_model_module": "@jupyter-widgets/controls",
            "_model_module_version": "1.5.0",
            "_model_name": "HTMLModel",
            "_view_count": null,
            "_view_module": "@jupyter-widgets/controls",
            "_view_module_version": "1.5.0",
            "_view_name": "HTMLView",
            "description": "",
            "description_tooltip": null,
            "layout": "IPY_MODEL_72de631007f24a6082f5790a65b1b42e",
            "placeholder": "​",
            "style": "IPY_MODEL_926727a9417f4fbea102ae9bdac05184",
            "value": " 3.34k/3.34k [00:00&lt;00:00, 63.4kB/s]"
          }
        },
        "22cbc076944e4abb90f6468ca3df9c34": {
          "model_module": "@jupyter-widgets/base",
          "model_name": "LayoutModel",
          "model_module_version": "1.2.0",
          "state": {
            "_model_module": "@jupyter-widgets/base",
            "_model_module_version": "1.2.0",
            "_model_name": "LayoutModel",
            "_view_count": null,
            "_view_module": "@jupyter-widgets/base",
            "_view_module_version": "1.2.0",
            "_view_name": "LayoutView",
            "align_content": null,
            "align_items": null,
            "align_self": null,
            "border": null,
            "bottom": null,
            "display": null,
            "flex": null,
            "flex_flow": null,
            "grid_area": null,
            "grid_auto_columns": null,
            "grid_auto_flow": null,
            "grid_auto_rows": null,
            "grid_column": null,
            "grid_gap": null,
            "grid_row": null,
            "grid_template_areas": null,
            "grid_template_columns": null,
            "grid_template_rows": null,
            "height": null,
            "justify_content": null,
            "justify_items": null,
            "left": null,
            "margin": null,
            "max_height": null,
            "max_width": null,
            "min_height": null,
            "min_width": null,
            "object_fit": null,
            "object_position": null,
            "order": null,
            "overflow": null,
            "overflow_x": null,
            "overflow_y": null,
            "padding": null,
            "right": null,
            "top": null,
            "visibility": null,
            "width": null
          }
        },
        "e1d3dd7692144299957d5bd0352f8128": {
          "model_module": "@jupyter-widgets/base",
          "model_name": "LayoutModel",
          "model_module_version": "1.2.0",
          "state": {
            "_model_module": "@jupyter-widgets/base",
            "_model_module_version": "1.2.0",
            "_model_name": "LayoutModel",
            "_view_count": null,
            "_view_module": "@jupyter-widgets/base",
            "_view_module_version": "1.2.0",
            "_view_name": "LayoutView",
            "align_content": null,
            "align_items": null,
            "align_self": null,
            "border": null,
            "bottom": null,
            "display": null,
            "flex": null,
            "flex_flow": null,
            "grid_area": null,
            "grid_auto_columns": null,
            "grid_auto_flow": null,
            "grid_auto_rows": null,
            "grid_column": null,
            "grid_gap": null,
            "grid_row": null,
            "grid_template_areas": null,
            "grid_template_columns": null,
            "grid_template_rows": null,
            "height": null,
            "justify_content": null,
            "justify_items": null,
            "left": null,
            "margin": null,
            "max_height": null,
            "max_width": null,
            "min_height": null,
            "min_width": null,
            "object_fit": null,
            "object_position": null,
            "order": null,
            "overflow": null,
            "overflow_x": null,
            "overflow_y": null,
            "padding": null,
            "right": null,
            "top": null,
            "visibility": null,
            "width": null
          }
        },
        "d7d1f25e62974978884602bd4514524b": {
          "model_module": "@jupyter-widgets/controls",
          "model_name": "DescriptionStyleModel",
          "model_module_version": "1.5.0",
          "state": {
            "_model_module": "@jupyter-widgets/controls",
            "_model_module_version": "1.5.0",
            "_model_name": "DescriptionStyleModel",
            "_view_count": null,
            "_view_module": "@jupyter-widgets/base",
            "_view_module_version": "1.2.0",
            "_view_name": "StyleView",
            "description_width": ""
          }
        },
        "11261a9d48904a95a8c92c76ded981fc": {
          "model_module": "@jupyter-widgets/base",
          "model_name": "LayoutModel",
          "model_module_version": "1.2.0",
          "state": {
            "_model_module": "@jupyter-widgets/base",
            "_model_module_version": "1.2.0",
            "_model_name": "LayoutModel",
            "_view_count": null,
            "_view_module": "@jupyter-widgets/base",
            "_view_module_version": "1.2.0",
            "_view_name": "LayoutView",
            "align_content": null,
            "align_items": null,
            "align_self": null,
            "border": null,
            "bottom": null,
            "display": null,
            "flex": null,
            "flex_flow": null,
            "grid_area": null,
            "grid_auto_columns": null,
            "grid_auto_flow": null,
            "grid_auto_rows": null,
            "grid_column": null,
            "grid_gap": null,
            "grid_row": null,
            "grid_template_areas": null,
            "grid_template_columns": null,
            "grid_template_rows": null,
            "height": null,
            "justify_content": null,
            "justify_items": null,
            "left": null,
            "margin": null,
            "max_height": null,
            "max_width": null,
            "min_height": null,
            "min_width": null,
            "object_fit": null,
            "object_position": null,
            "order": null,
            "overflow": null,
            "overflow_x": null,
            "overflow_y": null,
            "padding": null,
            "right": null,
            "top": null,
            "visibility": null,
            "width": null
          }
        },
        "f5f5fc4296974939898e6b6631b9024e": {
          "model_module": "@jupyter-widgets/controls",
          "model_name": "ProgressStyleModel",
          "model_module_version": "1.5.0",
          "state": {
            "_model_module": "@jupyter-widgets/controls",
            "_model_module_version": "1.5.0",
            "_model_name": "ProgressStyleModel",
            "_view_count": null,
            "_view_module": "@jupyter-widgets/base",
            "_view_module_version": "1.2.0",
            "_view_name": "StyleView",
            "bar_color": null,
            "description_width": ""
          }
        },
        "72de631007f24a6082f5790a65b1b42e": {
          "model_module": "@jupyter-widgets/base",
          "model_name": "LayoutModel",
          "model_module_version": "1.2.0",
          "state": {
            "_model_module": "@jupyter-widgets/base",
            "_model_module_version": "1.2.0",
            "_model_name": "LayoutModel",
            "_view_count": null,
            "_view_module": "@jupyter-widgets/base",
            "_view_module_version": "1.2.0",
            "_view_name": "LayoutView",
            "align_content": null,
            "align_items": null,
            "align_self": null,
            "border": null,
            "bottom": null,
            "display": null,
            "flex": null,
            "flex_flow": null,
            "grid_area": null,
            "grid_auto_columns": null,
            "grid_auto_flow": null,
            "grid_auto_rows": null,
            "grid_column": null,
            "grid_gap": null,
            "grid_row": null,
            "grid_template_areas": null,
            "grid_template_columns": null,
            "grid_template_rows": null,
            "height": null,
            "justify_content": null,
            "justify_items": null,
            "left": null,
            "margin": null,
            "max_height": null,
            "max_width": null,
            "min_height": null,
            "min_width": null,
            "object_fit": null,
            "object_position": null,
            "order": null,
            "overflow": null,
            "overflow_x": null,
            "overflow_y": null,
            "padding": null,
            "right": null,
            "top": null,
            "visibility": null,
            "width": null
          }
        },
        "926727a9417f4fbea102ae9bdac05184": {
          "model_module": "@jupyter-widgets/controls",
          "model_name": "DescriptionStyleModel",
          "model_module_version": "1.5.0",
          "state": {
            "_model_module": "@jupyter-widgets/controls",
            "_model_module_version": "1.5.0",
            "_model_name": "DescriptionStyleModel",
            "_view_count": null,
            "_view_module": "@jupyter-widgets/base",
            "_view_module_version": "1.2.0",
            "_view_name": "StyleView",
            "description_width": ""
          }
        }
      }
    }
  },
  "nbformat": 4,
  "nbformat_minor": 0
}